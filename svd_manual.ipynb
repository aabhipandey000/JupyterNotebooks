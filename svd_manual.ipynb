{
 "cells": [
  {
   "cell_type": "code",
   "execution_count": 2,
   "metadata": {},
   "outputs": [],
   "source": [
    "import numpy as np\n",
    "import matplotlib.pyplot as plt\n",
    "from sklearn.model_selection import train_test_split\n",
    "from scipy import optimize\n",
    "from scipy.stats import multivariate_normal\n",
    "import pandas as pd\n",
    "import os\n",
    "from math import *"
   ]
  },
  {
   "cell_type": "code",
   "execution_count": 68,
   "metadata": {},
   "outputs": [
    {
     "data": {
      "text/plain": [
       "array([[1., 2., 3.],\n",
       "       [4., 5., 6.]])"
      ]
     },
     "execution_count": 68,
     "metadata": {},
     "output_type": "execute_result"
    }
   ],
   "source": [
    "# A=np.array([[1,2,3],[4,5,6]])\n",
    "# p,s,q=np.linalg.svd(A,full_matrices=True)\n",
    "# s_a=np.zeros(A.shape)\n",
    "# for i in range(2): s_a[i,i]=s[i]\n",
    "# p @ s_a @ q"
   ]
  },
  {
   "cell_type": "code",
   "execution_count": 104,
   "metadata": {},
   "outputs": [],
   "source": [
    "def svd_man(A):\n",
    "    C_m=A @ A.transpose()\n",
    "    lam_m,q_m=np.linalg.eig(C_m)\n",
    "    idx = lam_m.argsort()[::-1]         #Eigen Values and corresponding eigen vectors are sorted in descending order\n",
    "    lam_m = lam_m[idx]\n",
    "    q_m = q_m[:,idx]\n",
    "    C_n=A.transpose() @ A\n",
    "    lam_n,q_n=np.linalg.eig(C_n)\n",
    "    idx = lam_n.argsort()[::-1]         #Eigen Values and corresponding eigen vectors are sorted in descending order\n",
    "    lam_n = lam_n[idx]\n",
    "    q_n = q_n[:,idx]\n",
    "    p=q_m\n",
    "    if lam_m.size<=lam_n.size:\n",
    "        s=np.sqrt(lam_m) \n",
    "    else:\n",
    "        s=lam_n\n",
    "    q=q_n.transpose()\n",
    "    return p,s,q"
   ]
  },
  {
   "cell_type": "code",
   "execution_count": 244,
   "metadata": {},
   "outputs": [
    {
     "data": {
      "text/plain": [
       "array([[-5.55111512e-17, -3.33066907e-16,  3.55271368e-15,\n",
       "         6.88338275e-15, -2.49800181e-15],\n",
       "       [ 0.00000000e+00, -1.05471187e-15, -4.49640325e-15,\n",
       "         1.02140518e-14,  5.55111512e-15],\n",
       "       [ 0.00000000e+00,  1.36002321e-15,  2.66453526e-15,\n",
       "         2.66453526e-15, -3.28903571e-15],\n",
       "       [ 5.55111512e-17,  3.05311332e-16,  5.99520433e-15,\n",
       "        -3.65818487e-14,  4.44089210e-16],\n",
       "       [ 3.33066907e-16, -3.33066907e-16, -8.21565038e-15,\n",
       "         2.14203655e-14, -2.22044605e-16]])"
      ]
     },
     "execution_count": 244,
     "metadata": {},
     "output_type": "execute_result"
    }
   ],
   "source": [
    "# sig=0.2\n",
    "# mu=1\n",
    "# l=np.arange(2,10)\n",
    "# (m,n)=np.random.choice(l,2)\n",
    "# A=np.random.randn(m,n)*sig + mu\n",
    "# i=0\n",
    "# np.linalg.svd(A)[i]-svd_man(A)[i]"
   ]
  },
  {
   "cell_type": "code",
   "execution_count": 208,
   "metadata": {},
   "outputs": [
    {
     "data": {
      "text/plain": [
       "(array([[-0.35356839, -0.06212127, -0.50705967, -0.23124935, -0.16919581,\n",
       "         -0.44586603, -0.37488938, -0.35024732, -0.26439667],\n",
       "        [-0.37303837, -0.25105525,  0.43225703, -0.34684944, -0.47205119,\n",
       "          0.45354363, -0.02394147, -0.15045406, -0.19727949],\n",
       "        [-0.33121293,  0.57711143,  0.60027849,  0.05619915,  0.1368159 ,\n",
       "         -0.38368528, -0.14491976, -0.07923782, -0.02311768],\n",
       "        [-0.32319736, -0.26965018,  0.02035018,  0.88571104, -0.13320342,\n",
       "          0.03457958, -0.0629887 , -0.08794406, -0.08540163],\n",
       "        [-0.30554402, -0.41109884,  0.09620215, -0.13976361,  0.82405547,\n",
       "          0.10938825, -0.04484107, -0.0851328 , -0.09252217],\n",
       "        [-0.26799682,  0.57941271, -0.37884469,  0.06830977,  0.14671582,\n",
       "          0.6343224 , -0.12784939, -0.06267979, -0.0102198 ],\n",
       "        [-0.35358825,  0.09018819, -0.16755839, -0.0468087 , -0.02236777,\n",
       "         -0.15133477,  0.89481481, -0.09129975, -0.06436505],\n",
       "        [-0.37087943, -0.04120399, -0.10882936, -0.07667718, -0.0669533 ,\n",
       "         -0.09204372, -0.0975405 ,  0.9025031 , -0.0777604 ],\n",
       "        [-0.30645976, -0.11309451, -0.05097206, -0.07941212, -0.08063936,\n",
       "         -0.03723666, -0.07315441, -0.08157064,  0.92978116]]),\n",
       " array([4.32097582, 0.63195673]),\n",
       " array([[-0.71429144, -0.69984836],\n",
       "        [ 0.69984836, -0.71429144]]))"
      ]
     },
     "execution_count": 208,
     "metadata": {},
     "output_type": "execute_result"
    }
   ],
   "source": [
    "# np.linalg.svd(A)"
   ]
  }
 ],
 "metadata": {
  "kernelspec": {
   "display_name": "Python 3",
   "language": "python",
   "name": "python3"
  },
  "language_info": {
   "codemirror_mode": {
    "name": "ipython",
    "version": 3
   },
   "file_extension": ".py",
   "mimetype": "text/x-python",
   "name": "python",
   "nbconvert_exporter": "python",
   "pygments_lexer": "ipython3",
   "version": "3.7.4"
  }
 },
 "nbformat": 4,
 "nbformat_minor": 2
}

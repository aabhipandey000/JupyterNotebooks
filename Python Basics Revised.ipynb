{
 "cells": [
  {
   "cell_type": "markdown",
   "metadata": {},
   "source": [
    "# Python Basics Revised"
   ]
  },
  {
   "cell_type": "markdown",
   "metadata": {},
   "source": [
    "In this text I won't be covering the theoratical aspects like interpreters,compilers and differences between python 2 and python3.\n",
    "Instead this text is the short and concise document for revisiting important python commands and their complications."
   ]
  },
  {
   "cell_type": "markdown",
   "metadata": {},
   "source": [
    "## Variables in python"
   ]
  },
  {
   "cell_type": "markdown",
   "metadata": {},
   "source": [
    "- Variables in python should not begin with number or only allowed special character '_'.\n",
    "- Only alphanumeric characters and '_' is allowed in variable name.\n",
    "- A reserved word can't be used as variable name."
   ]
  },
  {
   "cell_type": "code",
   "execution_count": 8,
   "metadata": {},
   "outputs": [
    {
     "name": "stdout",
     "output_type": "stream",
     "text": [
      "['False', 'None', 'True', 'and', 'as', 'assert', 'async', 'await', 'break', 'class', 'continue', 'def', 'del', 'elif', 'else', 'except', 'finally', 'for', 'from', 'global', 'if', 'import', 'in', 'is', 'lambda', 'nonlocal', 'not', 'or', 'pass', 'raise', 'return', 'try', 'while', 'with', 'yield']\n"
     ]
    }
   ],
   "source": [
    "import keyword\n",
    "reserved_words=keyword.kwlist\n",
    "print(reserved_words)"
   ]
  },
  {
   "cell_type": "markdown",
   "metadata": {},
   "source": [
    "## Operators in python"
   ]
  },
  {
   "cell_type": "code",
   "execution_count": 7,
   "metadata": {},
   "outputs": [
    {
     "name": "stdout",
     "output_type": "stream",
     "text": [
      "2\n",
      "2.5\n",
      "1\n",
      "25\n",
      "7\n",
      "3\n",
      "(3+4j)\n"
     ]
    }
   ],
   "source": [
    "x=5\n",
    "y=2\n",
    "z=3+4j\n",
    "print(x//y)  #quotient\n",
    "print(x/y)   #division with decimals\n",
    "print(x%y)   #reminder\n",
    "print(x**y)  #exponent\n",
    "print(x+y)   #Addition\n",
    "print(x-y)   #Substraction\n",
    "print(z)  #Complex number"
   ]
  },
  {
   "cell_type": "markdown",
   "metadata": {},
   "source": [
    "## Type Conversion"
   ]
  },
  {
   "cell_type": "code",
   "execution_count": 11,
   "metadata": {},
   "outputs": [
    {
     "name": "stdout",
     "output_type": "stream",
     "text": [
      "2\n",
      "<class 'str'>\n",
      "2\n",
      "<class 'int'>\n",
      "2.0\n",
      "<class 'float'>\n",
      "2\n",
      "<class 'str'>\n"
     ]
    }
   ],
   "source": [
    "x='2'\n",
    "y=int(x)\n",
    "f=float(y)\n",
    "s=str(y)\n",
    "print(x,type(x),y,type(y),f,type(f),s,type(s),sep='\\n')"
   ]
  },
  {
   "cell_type": "markdown",
   "metadata": {},
   "source": [
    "## Print Statement In Python"
   ]
  },
  {
   "cell_type": "code",
   "execution_count": 13,
   "metadata": {},
   "outputs": [
    {
     "name": "stdout",
     "output_type": "stream",
     "text": [
      "I Am Vaibhav\n",
      "I-Am-Vaibhav\t#One can see the effect of end on the start of this statement due to previous print command\n"
     ]
    }
   ],
   "source": [
    "print('I','Am','Vaibhav')\n",
    "print('I','Am','Vaibhav',sep='-',end='\\t')\n",
    "print('#One can see the effect of end on the start of this statement due to previous print command')"
   ]
  },
  {
   "cell_type": "markdown",
   "metadata": {},
   "source": [
    "- Other parameters of python print statement are:\n",
    ">`print(*objects, sep=' ', end='\\n', file=sys.stdout, flush=False)`\n",
    "    - file=sys.stdout - When you want the output of the print into some file\n",
    "    - flush=True - It will flush the memory buffer after execution of print statement."
   ]
  },
  {
   "cell_type": "markdown",
   "metadata": {},
   "source": [
    "## Python data structures "
   ]
  },
  {
   "cell_type": "markdown",
   "metadata": {},
   "source": [
    "### List"
   ]
  },
  {
   "cell_type": "code",
   "execution_count": 35,
   "metadata": {},
   "outputs": [
    {
     "name": "stdout",
     "output_type": "stream",
     "text": [
      "<class 'list'>\n",
      "List is mutable\n",
      "[1, 4, 3]\n",
      "[1, 4, 3]\n",
      "True\n",
      "True\n",
      "[4, 3]\n",
      "After all operations of append and extend this is the list: [1, 4, 3, 4, 3, 2]\n",
      "[1, 3, 2, 1, 2, 3, 2, 2]\n",
      "[2, 2, 3, 2, 1, 2, 3, 1]\n",
      "[1, 1, 2, 2, 2, 2, 3, 3]\n",
      "2\n",
      "[1, 1, 2, 2, 2, 3, 3]\n"
     ]
    }
   ],
   "source": [
    "l=[1,2,3]\n",
    "print(type(l))\n",
    "print('List is mutable')\n",
    "copy_l=l\n",
    "copy_l[1]=4\n",
    "print(l,copy_l,l is copy_l,l==copy_l,sep='\\n')\n",
    "\n",
    "print(l[1:])  #For complexities of slice operation refer strings.\n",
    "l.append(4)   #Add an object in the list\n",
    "l.extend([3,2]) #Extend list using othe rlist\n",
    "print('After all operations of append and extend this is the list:',l)\n",
    "if 3 in l:\n",
    "    l.remove(3) #remove first occurence if present, else it will give an error\n",
    "while 4 in l:\n",
    "    l.remove(4)\n",
    "l.extend([1,2,3,2,2])\n",
    "print(l)\n",
    "l.reverse()\n",
    "print(l)\n",
    "l.sort()\n",
    "print(l)\n",
    "x=2\n",
    "if x in l:\n",
    "    print(l.index(x))  #Give leftmost index in l.\n",
    "del(l[2]) #deletes second index of list and shortens the list\n",
    "print(l)"
   ]
  },
  {
   "cell_type": "markdown",
   "metadata": {},
   "source": [
    "### Tuple"
   ]
  },
  {
   "cell_type": "code",
   "execution_count": 19,
   "metadata": {},
   "outputs": [
    {
     "name": "stdout",
     "output_type": "stream",
     "text": [
      "<class 'tuple'>\n",
      "Tuple is immutable\n",
      "Tuple is not editable\n",
      "True\n",
      "True\n"
     ]
    }
   ],
   "source": [
    "t=(1,2,3)\n",
    "print(type(t))\n",
    "print('Tuple is immutable')\n",
    "copy_t=t\n",
    "print('Tuple is not editable')\n",
    "print(t is copy_t,t==copy_t,sep='\\n')"
   ]
  },
  {
   "cell_type": "markdown",
   "metadata": {},
   "source": [
    "**Note**- Use tuples for simultaneous assignment or swap."
   ]
  },
  {
   "cell_type": "code",
   "execution_count": 84,
   "metadata": {},
   "outputs": [
    {
     "name": "stdout",
     "output_type": "stream",
     "text": [
      "x= 3\n",
      "y= 2\n"
     ]
    }
   ],
   "source": [
    "#For example\n",
    "x=2\n",
    "y=3\n",
    "(x,y)=(y,x)\n",
    "print('x=',x)\n",
    "print('y=',y)"
   ]
  },
  {
   "cell_type": "markdown",
   "metadata": {},
   "source": [
    "### Sets"
   ]
  },
  {
   "cell_type": "code",
   "execution_count": 22,
   "metadata": {},
   "outputs": [
    {
     "name": "stdout",
     "output_type": "stream",
     "text": [
      "<class 'set'>\n",
      "Set is mutable\n",
      "{1, 2, 3, 4, 5}\n",
      "{1, 2, 3, 4, 5}\n",
      "True\n",
      "True\n"
     ]
    }
   ],
   "source": [
    "s={1,1,1,3,2,4}\n",
    "print(type(s))\n",
    "print('Set is mutable')\n",
    "copy_s=s\n",
    "copy_s.add(5)\n",
    "print(s,copy_s,s is copy_s,s==copy_s,sep='\\n')"
   ]
  },
  {
   "cell_type": "markdown",
   "metadata": {},
   "source": [
    "**Note**:To initialise empty set one should use `s=set()` instead of `s={}`.\n",
    "<br>As `s={}` will be used to initialize dictionary."
   ]
  },
  {
   "cell_type": "code",
   "execution_count": 29,
   "metadata": {},
   "outputs": [
    {
     "name": "stdout",
     "output_type": "stream",
     "text": [
      "<class 'dict'>\n",
      "<class 'set'>\n"
     ]
    }
   ],
   "source": [
    "s={}\n",
    "print(type(s))\n",
    "s=set()\n",
    "print(type(s))"
   ]
  },
  {
   "cell_type": "markdown",
   "metadata": {},
   "source": [
    "#### Set operations"
   ]
  },
  {
   "cell_type": "code",
   "execution_count": 34,
   "metadata": {},
   "outputs": [
    {
     "name": "stdout",
     "output_type": "stream",
     "text": [
      "{1, 2, 3, 4, 5}\n",
      "{1, 2, 3, 4, 5}\n",
      "{2, 3}\n",
      "{2, 3}\n",
      "{1, 4}\n",
      "{1, 4}\n",
      "{1, 4, 5}\n",
      "{1, 4, 5}\n"
     ]
    }
   ],
   "source": [
    "s1={1,2,3,4}\n",
    "s2={2,3,5}\n",
    "print(s1|s2,s1.union(s2),s1&s2,s1.intersection(s2),s1-s2,s1.difference(s2),s1^s2,s1.symmetric_difference(s2),sep='\\n')"
   ]
  },
  {
   "cell_type": "code",
   "execution_count": 35,
   "metadata": {},
   "outputs": [
    {
     "data": {
      "text/plain": [
       "['__and__',\n",
       " '__class__',\n",
       " '__contains__',\n",
       " '__delattr__',\n",
       " '__dir__',\n",
       " '__doc__',\n",
       " '__eq__',\n",
       " '__format__',\n",
       " '__ge__',\n",
       " '__getattribute__',\n",
       " '__gt__',\n",
       " '__hash__',\n",
       " '__iand__',\n",
       " '__init__',\n",
       " '__init_subclass__',\n",
       " '__ior__',\n",
       " '__isub__',\n",
       " '__iter__',\n",
       " '__ixor__',\n",
       " '__le__',\n",
       " '__len__',\n",
       " '__lt__',\n",
       " '__ne__',\n",
       " '__new__',\n",
       " '__or__',\n",
       " '__rand__',\n",
       " '__reduce__',\n",
       " '__reduce_ex__',\n",
       " '__repr__',\n",
       " '__ror__',\n",
       " '__rsub__',\n",
       " '__rxor__',\n",
       " '__setattr__',\n",
       " '__sizeof__',\n",
       " '__str__',\n",
       " '__sub__',\n",
       " '__subclasshook__',\n",
       " '__xor__',\n",
       " 'add',\n",
       " 'clear',\n",
       " 'copy',\n",
       " 'difference',\n",
       " 'difference_update',\n",
       " 'discard',\n",
       " 'intersection',\n",
       " 'intersection_update',\n",
       " 'isdisjoint',\n",
       " 'issubset',\n",
       " 'issuperset',\n",
       " 'pop',\n",
       " 'remove',\n",
       " 'symmetric_difference',\n",
       " 'symmetric_difference_update',\n",
       " 'union',\n",
       " 'update']"
      ]
     },
     "execution_count": 35,
     "metadata": {},
     "output_type": "execute_result"
    }
   ],
   "source": [
    "#List of set methods\n",
    "dir(set())"
   ]
  },
  {
   "cell_type": "markdown",
   "metadata": {},
   "source": [
    "**Note**:In the above list methods with update will change the existing set while others will generate new set."
   ]
  },
  {
   "cell_type": "markdown",
   "metadata": {},
   "source": [
    "### Dictionary"
   ]
  },
  {
   "cell_type": "code",
   "execution_count": 45,
   "metadata": {},
   "outputs": [
    {
     "name": "stdout",
     "output_type": "stream",
     "text": [
      "<class 'dict'>\n",
      "Dictionary is mutable\n",
      "{'Maths': {'Student1': 90, 'Student2': 93}, 'Physics': {'Student1': 80, 'Student2': 83}, 'Chemistry': {'Student1': 78, 'Student2': 86}}\n",
      "{'Maths': {'Student1': 90, 'Student2': 93}, 'Physics': {'Student1': 80, 'Student2': 83}, 'Chemistry': {'Student1': 78, 'Student2': 86}}\n",
      "True\n",
      "True\n",
      "dict_keys(['Maths', 'Physics', 'Chemistry'])\n",
      "<class 'dict_keys'>\n",
      "dict_values([{'Student1': 90, 'Student2': 93}, {'Student1': 80, 'Student2': 83}, {'Student1': 78, 'Student2': 86}])\n",
      "{'Maths': {'Student1': 90, 'Student2': 93}, 'Physics': {'Student1': 80, 'Student2': 83}}\n"
     ]
    }
   ],
   "source": [
    "d={'Maths':{'Student1':90,'Student2':93}, #Key:Value.\n",
    "  'Physics':{'Student1':80,'Student2':83}}  #Key should be immutable value\n",
    "print(type(d))\n",
    "print('Dictionary is mutable')\n",
    "copy_d=d\n",
    "copy_d['Chemistry']={}\n",
    "copy_d['Chemistry']['Student1']=78\n",
    "copy_d['Chemistry']['Student2']=86\n",
    "print(d,copy_d,d is copy_d,d==copy_d,sep='\\n')\n",
    "\n",
    "print(d.keys())\n",
    "print(type(d.keys())) #It is not a list\n",
    "print(d.values())\n",
    "del(d['Chemistry']) #Deletes key 'Chemistry and its associated values'\n",
    "print(d)"
   ]
  },
  {
   "cell_type": "code",
   "execution_count": 44,
   "metadata": {},
   "outputs": [
    {
     "name": "stdout",
     "output_type": "stream",
     "text": [
      "dict_keys(['Maths', 'Physics', 'Chemistry'])\n",
      "<class 'dict_keys'>\n",
      "dict_values([{'Student1': 90, 'Student2': 93}, {'Student1': 80, 'Student2': 83}, {'Student1': 78, 'Student2': 86}])\n",
      "{'Maths': {'Student1': 90, 'Student2': 93}, 'Physics': {'Student1': 80, 'Student2': 83}}\n"
     ]
    }
   ],
   "source": [
    "print(d.keys())\n",
    "print(type(d.keys())) #It is not a list\n",
    "print(d.values())\n",
    "del(d['Chemistry']) #Deletes key 'Chemistry and its associated values'\n",
    "print(d)"
   ]
  },
  {
   "cell_type": "markdown",
   "metadata": {},
   "source": [
    "### Range function"
   ]
  },
  {
   "cell_type": "code",
   "execution_count": 37,
   "metadata": {},
   "outputs": [
    {
     "name": "stdout",
     "output_type": "stream",
     "text": [
      "<class 'range'>\n",
      "range(0, 6)\n",
      "range(5, 0, -1)\n"
     ]
    }
   ],
   "source": [
    "l=range(6)      #[1,2,3,4,5]\n",
    "print(type(l))  #Note the type of range it is not a list data structure\n",
    "print(l)\n",
    "l2=range(5,0,-1)#[5,4,3,2,1]\n",
    "print(l2)"
   ]
  },
  {
   "cell_type": "markdown",
   "metadata": {},
   "source": [
    "### Strings"
   ]
  },
  {
   "cell_type": "markdown",
   "metadata": {},
   "source": [
    "- Use `''` , `\"\"`,`''''''` to distinguish strings."
   ]
  },
  {
   "cell_type": "code",
   "execution_count": 82,
   "metadata": {},
   "outputs": [
    {
     "name": "stdout",
     "output_type": "stream",
     "text": [
      "12\n",
      "m Va\n",
      "I am Vaibhav\n",
      "I am Va\n",
      "m Vaibhav\n",
      "\n",
      "aibh\n",
      "I am Vaibhav\n",
      "I am a programer\n"
     ]
    }
   ],
   "source": [
    "s='I am Vaibhav'\n",
    "s2='I am a programer'\n",
    "print(len(s))\n",
    "print(s[3:7])\n",
    "print(s[:])        #This slice operation shows that -ve indexes should be considered as positions and not as\n",
    "print(s[:7])       #number in range.\n",
    "print(s[3:])       #So [-1,-8] doesn't mean 'vahbiaV' or 'Vaibhav'. This complexities will be followed by any                 \n",
    "print(s[-1:-8])    #data type which uses numbers for slice operation. E.g. list\n",
    "print(s[-6:10])\n",
    "s3=s+'\\n'+s2       #string concatenation\n",
    "print(s3)"
   ]
  },
  {
   "cell_type": "markdown",
   "metadata": {},
   "source": [
    "#### String operations"
   ]
  },
  {
   "cell_type": "code",
   "execution_count": 3,
   "metadata": {},
   "outputs": [
    {
     "name": "stdout",
     "output_type": "stream",
     "text": [
      "         Vaibhav  \n",
      "         Vaibhav\n",
      "Vaibhav  \n",
      "Vaibhav\n"
     ]
    }
   ],
   "source": [
    "s='         Vaibhav  '\n",
    "print(s)\n",
    "print(s.rstrip(),s.lstrip(),s.strip(),sep='\\n')"
   ]
  },
  {
   "cell_type": "code",
   "execution_count": 4,
   "metadata": {},
   "outputs": [
    {
     "name": "stdout",
     "output_type": "stream",
     "text": [
      "10\n",
      "-1\n",
      "-1\n"
     ]
    }
   ],
   "source": [
    "print(s.find('ai'))\n",
    "print(s.find('ab'))\n",
    "try:\n",
    "    l=s.index('ai',2,4)\n",
    "except ValueError:\n",
    "    l=-1\n",
    "print(l)"
   ]
  },
  {
   "cell_type": "code",
   "execution_count": 5,
   "metadata": {},
   "outputs": [
    {
     "data": {
      "text/plain": [
       "'VAIbhavVAIbhavVaibhavVaibhav'"
      ]
     },
     "execution_count": 5,
     "metadata": {},
     "output_type": "execute_result"
    }
   ],
   "source": [
    "s='VaibhavVaibhavVaibhavVaibhav'\n",
    "print(s.replace('ai','AI',2))"
   ]
  },
  {
   "cell_type": "code",
   "execution_count": 12,
   "metadata": {},
   "outputs": [
    {
     "name": "stdout",
     "output_type": "stream",
     "text": [
      "06-08-2020\n",
      "['06', '08-2020']\n"
     ]
    }
   ],
   "source": [
    "(date,month,year)=('06','08','2020')\n",
    "s='-'.join([date,month,year])\n",
    "print(s)\n",
    "print(s.split('-',1))"
   ]
  },
  {
   "cell_type": "code",
   "execution_count": 34,
   "metadata": {},
   "outputs": [
    {
     "name": "stdout",
     "output_type": "stream",
     "text": [
      "Value:  3.14\n",
      "Value: 3.142\n",
      "Value:3.1416\n",
      "Value:3.14159\n",
      "Value:  1\n",
      "Value: 12\n",
      "Value:123\n",
      "Value:1234\n",
      "second:11,first47\n",
      "second:11,first47\n"
     ]
    }
   ],
   "source": [
    "from math import pi\n",
    "x=pi\n",
    "print(\"Value:{0:6.2f}\".format(x))#first digit represent width. Digit after width represents no. of digits after\n",
    "print(\"Value:{0:6.3f}\".format(x))#decimal point.f represents floating point.d represents digit.\n",
    "print(\"Value:{0:6.4f}\".format(x))\n",
    "print(\"Value:{0:6.5f}\".format(x))\n",
    "\n",
    "print(\"Value:{0:3d}\".format(1))\n",
    "print(\"Value:{0:3d}\".format(12)) #s for string. o for octal no. and x for hexadecimal no.\n",
    "print(\"Value:{0:3d}\".format(123))\n",
    "print(\"Value:{0:3d}\".format(1234))\n",
    "\n",
    "print(\"second:{1},first{0}\".format(47,11))\n",
    "print(\"second:{f},first{s}\".format(s=47,f=11))"
   ]
  },
  {
   "cell_type": "markdown",
   "metadata": {},
   "source": [
    "## Control flow in python"
   ]
  },
  {
   "cell_type": "markdown",
   "metadata": {},
   "source": [
    "if *condition* :\n",
    "> body\n",
    "\n",
    "else:\n",
    "> body\n",
    "\n",
    "while *condition*:\n",
    ">body\n",
    "\n",
    "else:\n",
    ">Statements that are to be executed after normal termination of the loop\n",
    "\n",
    "for *iterator* in *list*:\n",
    ">body\n",
    "\n",
    "else:\n",
    ">Statements that are to be executed after normal termination of the loop\n",
    "\n",
    "- `break` - To break out of the loop\n",
    "- `continue` - To skip current iteration\n",
    "- `pass` - To skip the body of a statement"
   ]
  },
  {
   "cell_type": "markdown",
   "metadata": {},
   "source": [
    "## Functions in python"
   ]
  },
  {
   "cell_type": "markdown",
   "metadata": {},
   "source": [
    "- `def` name_of_the_function(arguments,default_arguments=default_values):\n",
    ">body\n",
    "\n",
    "- Use `return` name_of_the_function for recursive use of the function.\n",
    "- If mutable data type is updated within the function then the original object will also get modified.\n",
    "- However if immutable data type is updated within the function then the original object won't get modified."
   ]
  },
  {
   "cell_type": "code",
   "execution_count": 105,
   "metadata": {},
   "outputs": [
    {
     "name": "stdout",
     "output_type": "stream",
     "text": [
      "(3, 1, 2)\n",
      "(1, 4, 2)\n",
      "(1, 4, 2)\n"
     ]
    }
   ],
   "source": [
    "def parameters(x,y,z=1):\n",
    "    return(tuple([z,x,y]))\n",
    "print(parameters(1,2,3))\n",
    "print(parameters(4,2))\n",
    "print(parameters(y=2,x=4))"
   ]
  },
  {
   "cell_type": "markdown",
   "metadata": {},
   "source": [
    "- To avoid using local variables of function as global use global variable name to define it as global.\n",
    "- `global` will work only for immutable data types\n",
    "- The function will see outside its scope to check weather x is there or not, if it is defined as global in f."
   ]
  },
  {
   "cell_type": "code",
   "execution_count": 47,
   "metadata": {},
   "outputs": [
    {
     "name": "stdout",
     "output_type": "stream",
     "text": [
      "7\n",
      "22\n"
     ]
    }
   ],
   "source": [
    "def f():\n",
    "    global x #Try running it without global\n",
    "    y=x\n",
    "    print(y)\n",
    "    x=22\n",
    "x=7\n",
    "f()\n",
    "print(x)"
   ]
  },
  {
   "cell_type": "code",
   "execution_count": 63,
   "metadata": {},
   "outputs": [
    {
     "name": "stdout",
     "output_type": "stream",
     "text": [
      "Before making changing:  15\n",
      "Making change\n",
      "After making change:  15\n",
      "value of x 20\n"
     ]
    }
   ],
   "source": [
    "# Python program showing a use of \n",
    "# global in nested function \n",
    "  \n",
    "def add(): \n",
    "     x = 15\n",
    "       \n",
    "     def change(): \n",
    "         global x \n",
    "         x = 20\n",
    "     print(\"Before making changing: \", x) \n",
    "     print(\"Making change\") \n",
    "     change() \n",
    "     print(\"After making change: \", x) \n",
    "  \n",
    "add() \n",
    "print(\"value of x\",x) \n"
   ]
  },
  {
   "cell_type": "markdown",
   "metadata": {},
   "source": [
    "**Note**-In the above example Before and after making change(), the variable x takes the value of local variable i.e x = 15. Outside of the add() function, the variable x will take value defined in the change() function i.e x = 20. because we have used global keyword in x to create global variable inside the change() function (local scope)."
   ]
  },
  {
   "cell_type": "markdown",
   "metadata": {},
   "source": [
    "## Sorted function in Python"
   ]
  },
  {
   "cell_type": "code",
   "execution_count": 102,
   "metadata": {},
   "outputs": [
    {
     "name": "stdout",
     "output_type": "stream",
     "text": [
      "[1, 2, 2, 3, 4] \n",
      " ['A', 'B', 'a', 'b']\n"
     ]
    }
   ],
   "source": [
    "l=[1,3,2,4,2]\n",
    "z=['a','b','B','A']\n",
    "print(sorted(l),'\\n',sorted(z))"
   ]
  },
  {
   "cell_type": "markdown",
   "metadata": {},
   "source": [
    "## List comprehension in Python"
   ]
  },
  {
   "cell_type": "code",
   "execution_count": 120,
   "metadata": {},
   "outputs": [
    {
     "name": "stdout",
     "output_type": "stream",
     "text": [
      "[1, 2, 3, 4] \n",
      " [1, 4, 9, 16] \n",
      " [1, 4] \n",
      "\n"
     ]
    }
   ],
   "source": [
    "def f(x):\n",
    "    return(x*x)\n",
    "def c(x):\n",
    "    return(x<9)\n",
    "l=[1,2,3,4]\n",
    "l2=list(map(f,l))\n",
    "l3=list(filter(c,l2))\n",
    "print(l,'\\n',l2,'\\n',l3,'\\n')"
   ]
  },
  {
   "cell_type": "markdown",
   "metadata": {},
   "source": [
    "[function(x)| generator filter]\n",
    "<br>See the code below for better understanding"
   ]
  },
  {
   "cell_type": "code",
   "execution_count": null,
   "metadata": {},
   "outputs": [],
   "source": [
    "print([f(x) for x in range(20) if x%2==0]) #Short hand notation of conditional sets\n",
    "print([(x,y,z) for x in range(10) for y in range(10) for z in range(10) if x<y and y<z and x*x+y*y==z*z])\n",
    "#Short code for pythagoran triplets"
   ]
  },
  {
   "cell_type": "markdown",
   "metadata": {},
   "source": [
    "- Following is a short demonstration of how mutability of a list can cause errors if not handeled properly."
   ]
  },
  {
   "cell_type": "code",
   "execution_count": 127,
   "metadata": {},
   "outputs": [
    {
     "name": "stdout",
     "output_type": "stream",
     "text": [
      "[0, 4, 16, 36, 64, 100, 144, 196, 256, 324]\n",
      "[(3, 4, 5)]\n",
      "[[0, 0, 0], [0, 0, 0], [0, 0, 0], [0, 0, 0]]\n",
      "[[0, 2, 0, 0], [0, 2, 0, 0], [0, 2, 0, 0], [0, 2, 0, 0]]\n"
     ]
    }
   ],
   "source": [
    "l=[[0 for i in range(3)] for j in range(4)];\n",
    "print(l)\n",
    "#Wrong implementation\n",
    "temp=[0,0,0,0]\n",
    "l_err=[temp,temp,temp,temp]\n",
    "l_err[1][1]=2\n",
    "print(l_err)"
   ]
  },
  {
   "cell_type": "markdown",
   "metadata": {},
   "source": [
    "## Exception Handling"
   ]
  },
  {
   "cell_type": "markdown",
   "metadata": {},
   "source": [
    "- Types of errors\n",
    "    - Syntax error\n",
    "    - Run time error\n",
    "    - Zero division error"
   ]
  },
  {
   "cell_type": "markdown",
   "metadata": {},
   "source": [
    "Syntax:\n",
    "<br>try:\n",
    ">Code where error may occur\n",
    "\n",
    "except *type of error*:\n",
    ">statements to be executed in case of given type of error\n",
    "\n",
    "except:\n",
    ">Catch all other errors whose type is not defined above\n",
    "\n",
    "else:\n",
    ">Statements to execute when try terminates normally without any error. Just like for and while loop."
   ]
  },
  {
   "cell_type": "code",
   "execution_count": 141,
   "metadata": {},
   "outputs": [
    {
     "name": "stdout",
     "output_type": "stream",
     "text": [
      "{'Dhoni': [90, 12, 2, 0], 'Sachin': [30, 23, 100, 2], 'Sehwag': [56]}\n"
     ]
    }
   ],
   "source": [
    "score={'Dhoni':[90,12,2,0],'Sachin':[30,23,100,2]}\n",
    "x=56\n",
    "try:\n",
    "    score['Sehwag'].append(x)\n",
    "except KeyError:\n",
    "    score['Sehwag']=[x]\n",
    "else:\n",
    "    print(\"Sehwag's record is there so append is executed successfully\")\n",
    "print(score)"
   ]
  },
  {
   "cell_type": "markdown",
   "metadata": {},
   "source": [
    "**Note**:Python doesn't abort the program as soon as it finds an error but first it passes the error to the function which called an error containing function. This thing will go on until error handling code is not found or if it is not there than it will go on till main function."
   ]
  },
  {
   "cell_type": "markdown",
   "metadata": {},
   "source": [
    "## Modules in python"
   ]
  },
  {
   "cell_type": "markdown",
   "metadata": {},
   "source": [
    "- A file containing python statements and definitions is called module.\n",
    "- Module or the function inside module can be imported using `import` and `from` *module* `import` *name of the function*"
   ]
  },
  {
   "cell_type": "code",
   "execution_count": 40,
   "metadata": {},
   "outputs": [],
   "source": [
    "from matplotlib import pyplot as pp"
   ]
  },
  {
   "cell_type": "markdown",
   "metadata": {},
   "source": [
    "## Python for scripting"
   ]
  },
  {
   "cell_type": "code",
   "execution_count": 44,
   "metadata": {},
   "outputs": [
    {
     "ename": "FileExistsError",
     "evalue": "[Errno 17] File exists: 'Test'",
     "output_type": "error",
     "traceback": [
      "\u001b[0;31m--------------------------------------------------------------------------\u001b[0m",
      "\u001b[0;31mFileExistsError\u001b[0m                          Traceback (most recent call last)",
      "\u001b[0;32m<ipython-input-44-fb96d612998a>\u001b[0m in \u001b[0;36m<module>\u001b[0;34m\u001b[0m\n\u001b[1;32m      1\u001b[0m \u001b[0;32mimport\u001b[0m \u001b[0mos\u001b[0m\u001b[0;34m\u001b[0m\u001b[0;34m\u001b[0m\u001b[0m\n\u001b[1;32m      2\u001b[0m \u001b[0mos\u001b[0m\u001b[0;34m.\u001b[0m\u001b[0mgetcwd\u001b[0m\u001b[0;34m(\u001b[0m\u001b[0;34m)\u001b[0m                                \u001b[0;31m#get current working directory\u001b[0m\u001b[0;34m\u001b[0m\u001b[0;34m\u001b[0m\u001b[0m\n\u001b[0;32m----> 3\u001b[0;31m \u001b[0mos\u001b[0m\u001b[0;34m.\u001b[0m\u001b[0mmkdir\u001b[0m\u001b[0;34m(\u001b[0m\u001b[0;34m'Test'\u001b[0m\u001b[0;34m)\u001b[0m                           \u001b[0;31m#Make directory\u001b[0m\u001b[0;34m\u001b[0m\u001b[0;34m\u001b[0m\u001b[0m\n\u001b[0m\u001b[1;32m      4\u001b[0m \u001b[0mos\u001b[0m\u001b[0;34m.\u001b[0m\u001b[0mchdir\u001b[0m\u001b[0;34m(\u001b[0m\u001b[0;34m'/home/vaibhav/Downloads/Test'\u001b[0m\u001b[0;34m)\u001b[0m   \u001b[0;31m#change directory\u001b[0m\u001b[0;34m\u001b[0m\u001b[0;34m\u001b[0m\u001b[0m\n\u001b[1;32m      5\u001b[0m \u001b[0mopen\u001b[0m\u001b[0;34m(\u001b[0m\u001b[0;34m'test.txt'\u001b[0m\u001b[0;34m,\u001b[0m\u001b[0;34m'a'\u001b[0m\u001b[0;34m)\u001b[0m\u001b[0;34m.\u001b[0m\u001b[0mclose\u001b[0m\u001b[0;34m(\u001b[0m\u001b[0;34m)\u001b[0m                   \u001b[0;31m#Create an empty file\u001b[0m\u001b[0;34m\u001b[0m\u001b[0;34m\u001b[0m\u001b[0m\n",
      "\u001b[0;31mFileExistsError\u001b[0m: [Errno 17] File exists: 'Test'"
     ]
    }
   ],
   "source": [
    "import os\n",
    "os.getcwd()                                #get current working directory\n",
    "os.mkdir('Test')                           #Make directory\n",
    "os.chdir('/home/vaibhav/Downloads/Test')   #change directory\n",
    "open('test.txt','a').close()                   #Create an empty file\n",
    "os.rename('test.txt','test2.txt')          #Rename a file\n",
    "os.remove('test2.txt')                     #Delete a file\n",
    "os.chdir('/home/vaibhav/Downloads/')\n",
    "os.rmdir('Test')                           #Remove an empty directory"
   ]
  },
  {
   "cell_type": "markdown",
   "metadata": {},
   "source": [
    "##  File handling using python"
   ]
  },
  {
   "cell_type": "code",
   "execution_count": 48,
   "metadata": {},
   "outputs": [],
   "source": [
    "# Code to create newfile (All ways are explained through code)\n",
    "f=open('test.txt','w')\n",
    "f.write('My first file\\n')\n",
    "l=['I am Vaibhav\\n','I am Mechanical undergraduate\\n','I know python at an advanced level\\n']\n",
    "f.writelines(l)\n",
    "f.close()"
   ]
  },
  {
   "cell_type": "code",
   "execution_count": 49,
   "metadata": {},
   "outputs": [
    {
     "name": "stdout",
     "output_type": "stream",
     "text": [
      "My first file\n",
      "\n"
     ]
    }
   ],
   "source": [
    "#Code to read line\n",
    "f=open('test.txt','r')\n",
    "print(f.readline())\n",
    "k=f.readlines()\n",
    "f.close()"
   ]
  },
  {
   "cell_type": "code",
   "execution_count": 51,
   "metadata": {},
   "outputs": [
    {
     "name": "stdout",
     "output_type": "stream",
     "text": [
      "['I am Vaibhav\\n', 'I am Mechanical undergraduate\\n', 'I know python at an advanced level\\n']\n",
      "My first file\n",
      "I am Vaibhav\n",
      "I am Mechanical undergraduate\n",
      "I know python at an advanced level\n",
      "\n"
     ]
    }
   ],
   "source": [
    "#Code to read a file\n",
    "f=open('test.txt','r')\n",
    "m=f.read()\n",
    "f.close()\n",
    "print(k,m,sep='\\n')"
   ]
  },
  {
   "cell_type": "markdown",
   "metadata": {},
   "source": [
    "- Some parameters for open\n",
    "    - 'r'-read a file\n",
    "    - 'w'-write a file\n",
    "    - 'x'-execute a file\n",
    "    - 'a'-append a file\n",
    "    - 't'-open file in text format\n",
    "    - 'b'-open file in binary format\n",
    "    - '+'-open file for updating"
   ]
  },
  {
   "cell_type": "code",
   "execution_count": 55,
   "metadata": {},
   "outputs": [
    {
     "name": "stdout",
     "output_type": "stream",
     "text": [
      "My first file\n",
      "\n",
      "My first file\n",
      "\n",
      "I am Vaibhav\n",
      "I am Mechanical undergraduate\n",
      "I know python at an advanced level\n",
      "This is a new line that is addedThis is a new line that is addedThis is a new line that is addedThis is a new line that is added\n"
     ]
    }
   ],
   "source": [
    "f=open('test.txt','r+')\n",
    "print(f.readline())\n",
    "f.write('This is a new line that is added')\n",
    "f.seek(0)          #To move the stream at the starting position.Try commenting it out and learn from it.\n",
    "print(f.readline())\n",
    "print(f.read())\n",
    "f.close()"
   ]
  },
  {
   "cell_type": "markdown",
   "metadata": {},
   "source": [
    "## Python for Object oriented Programming "
   ]
  },
  {
   "cell_type": "markdown",
   "metadata": {},
   "source": [
    "- Class- *Blueprint for the object*\n",
    "- Object- *An instance of a class*\n",
    "- Constructor- *A constructor is a special kind of method that Python calls when it instantiates an object using the definitions found in class.*\n",
    "<br>**Note**-Whenever an object calls its method, the object itself is passed as the first argument.\n",
    "\n",
    "- A method with name `__init()__` is a constructor.\n",
    "    - This method is automatically called when an object is instantised."
   ]
  },
  {
   "cell_type": "code",
   "execution_count": 73,
   "metadata": {},
   "outputs": [
    {
     "name": "stdout",
     "output_type": "stream",
     "text": [
      "(6,8.7)\n"
     ]
    }
   ],
   "source": [
    "class point:\n",
    "    def __init__(self,a,b):\n",
    "        self.x=a\n",
    "        self.y=b\n",
    "    def __str__(self):\n",
    "        return('('+str(self.x)+','+str(self.y)+')')\n",
    "    def __add__(self,p):\n",
    "        return(point(self.x+p.x,self.y+p.y))\n",
    "print(point(2,3.2)+point(4,5.5))"
   ]
  },
  {
   "cell_type": "markdown",
   "metadata": {},
   "source": [
    "## None in python"
   ]
  },
  {
   "cell_type": "markdown",
   "metadata": {},
   "source": [
    "- `None`- It is a special value to denote noting.\n",
    "    - All `None` points to the same None object.\n",
    "    - For `x=None`,`x is None` is equivalent to `x==None`"
   ]
  },
  {
   "cell_type": "markdown",
   "metadata": {},
   "source": [
    "## Digression on Equality "
   ]
  },
  {
   "cell_type": "code",
   "execution_count": 83,
   "metadata": {},
   "outputs": [
    {
     "name": "stdout",
     "output_type": "stream",
     "text": [
      "l1==l2: True\n",
      "l1 is l2: False\n",
      "l1 is l3: True\n"
     ]
    }
   ],
   "source": [
    "l1=[1,2,3]\n",
    "l2=[1,2,3]\n",
    "l3=l1\n",
    "print('l1==l2:',l1==l2)\n",
    "print('l1 is l2:',l1 is l2)\n",
    "print('l1 is l3:',l1 is l3)"
   ]
  },
  {
   "cell_type": "markdown",
   "metadata": {},
   "source": [
    "## Time and recursion limit command"
   ]
  },
  {
   "cell_type": "code",
   "execution_count": 96,
   "metadata": {},
   "outputs": [
    {
     "name": "stdout",
     "output_type": "stream",
     "text": [
      "0.0002315044403076172 seconds\n"
     ]
    }
   ],
   "source": [
    "import time\n",
    "import sys\n",
    "start_time=time.time()\n",
    "sys.setrecursionlimit(10000) #Default recursion limit is 1000\n",
    "end_time=time.time()\n",
    "print(end_time-start_time,'seconds')"
   ]
  }
 ],
 "metadata": {
  "kernelspec": {
   "display_name": "Python 3",
   "language": "python",
   "name": "python3"
  },
  "language_info": {
   "codemirror_mode": {
    "name": "ipython",
    "version": 3
   },
   "file_extension": ".py",
   "mimetype": "text/x-python",
   "name": "python",
   "nbconvert_exporter": "python",
   "pygments_lexer": "ipython3",
   "version": "3.7.1"
  }
 },
 "nbformat": 4,
 "nbformat_minor": 2
}

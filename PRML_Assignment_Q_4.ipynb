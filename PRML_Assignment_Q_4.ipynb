{
 "cells": [
  {
   "cell_type": "code",
   "execution_count": 297,
   "metadata": {},
   "outputs": [],
   "source": [
    "import numpy as np\n",
    "import matplotlib.pyplot as plt\n",
    "from sklearn.model_selection import train_test_split\n",
    "from scipy import optimize\n",
    "from scipy.stats import multivariate_normal\n",
    "import pandas as pd\n",
    "import os\n",
    "from math import *"
   ]
  },
  {
   "cell_type": "code",
   "execution_count": 298,
   "metadata": {},
   "outputs": [],
   "source": [
    "#Manual svd function written from scratch\n",
    "def svd_man(A):\n",
    "    C_m=A @ A.transpose()\n",
    "    lam_m,q_m=np.linalg.eig(C_m)\n",
    "    idx = lam_m.argsort()[::-1]         #Eigen Values and corresponding eigen vectors are sorted in descending order\n",
    "    lam_m = lam_m[idx]\n",
    "    q_m = q_m[:,idx]\n",
    "    C_n=A.transpose() @ A\n",
    "    lam_n,q_n=np.linalg.eig(C_n)\n",
    "    idx = lam_n.argsort()[::-1]         #Eigen Values and corresponding eigen vectors are sorted in descending order\n",
    "    lam_n = lam_n[idx]\n",
    "    q_n = q_n[:,idx]\n",
    "    p=q_m\n",
    "    if lam_m.size<=lam_n.size:\n",
    "        s=np.sqrt(lam_m) \n",
    "    else:\n",
    "        s=lam_n\n",
    "    q=q_n.transpose()\n",
    "    return p,s,q\n",
    "#vineBeta function to generate highly correlated correlation matrix\n",
    "def vineBeta(d,betaparam):               #50,20,10,5,2,1 - values of betaparameter for decreasing correlation\n",
    "    P=np.zeros((d,d))\n",
    "    S=np.eye(d)\n",
    "    for k in range(d-1):\n",
    "        for i in range(k+1,d):\n",
    "            P[k,i]=np.random.beta(betaparam,betaparam)\n",
    "            P[k,i]=2*(P[k,i]-0.5)\n",
    "            p=P[k,i]\n",
    "            for l in range(k-1,-1,-1):\n",
    "                p=p*sqrt((1-(P[l,i])**2)*(1-(P[l,k])**2))+P[l,i]*P[l,k]\n",
    "            S[k,i]=p\n",
    "            S[i,k]=p\n",
    "    idx=np.random.permutation(d)\n",
    "    S=S[idx,:]\n",
    "    S=S[:,idx]\n",
    "    return S\n",
    "def highly_correlated_random_matrix(x,betaparam):\n",
    "    r=vineBeta(x.shape[1],betaparam)                     # Assuming columns represents dimensions\n",
    "    c=np.linalg.cholesky(r)\n",
    "    y=c @ x\n",
    "    return y\n",
    "def Forb_norm(s):\n",
    "    return sqrt(s @ s)\n",
    "def Forb_norm_mat(A):\n",
    "    return sqrt(sum(sum(A**2)))"
   ]
  },
  {
   "cell_type": "code",
   "execution_count": 299,
   "metadata": {},
   "outputs": [],
   "source": [
    "#Random uniform 100x100 matrix(statistically independent)\n",
    "x=np.random.random((100,100))"
   ]
  },
  {
   "cell_type": "code",
   "execution_count": 300,
   "metadata": {},
   "outputs": [],
   "source": [
    "betaparam=50 #For high correlation\n",
    "A=highly_correlated_random_matrix(x,betaparam)#Highly correlated random matrix from statistically independent matrix\n",
    "#A=x #Uncomment it for (f-statistically independent case) part"
   ]
  },
  {
   "cell_type": "code",
   "execution_count": 301,
   "metadata": {},
   "outputs": [
    {
     "data": {
      "text/plain": [
       "55.80878453735402"
      ]
     },
     "execution_count": 301,
     "metadata": {},
     "output_type": "execute_result"
    }
   ],
   "source": [
    "#Question1\n",
    "f_a=Forb_norm_mat(A)\n",
    "f_a"
   ]
  },
  {
   "cell_type": "code",
   "execution_count": 308,
   "metadata": {},
   "outputs": [
    {
     "data": {
      "text/plain": [
       "100"
      ]
     },
     "execution_count": 308,
     "metadata": {},
     "output_type": "execute_result"
    }
   ],
   "source": [
    "# A=p*diag(s)*q\n",
    "p,s,q=svd_man(A)"
   ]
  },
  {
   "cell_type": "code",
   "execution_count": 303,
   "metadata": {},
   "outputs": [
    {
     "data": {
      "text/plain": [
       "0.9175671633886789"
      ]
     },
     "execution_count": 303,
     "metadata": {},
     "output_type": "execute_result"
    }
   ],
   "source": [
    "#Vary t to get the fraction captured by top t values. t=1 gives fraction captured by top most sigular vector\n",
    "t=10\n",
    "A_t10=p[:,0:t] @ np.diag(s[0:t]) @ q[0:t,:]\n",
    "f_a_t10=Forb_norm_mat(A_t10)\n",
    "fraction_t10=f_a_t10/f_a\n",
    "fraction_t10"
   ]
  },
  {
   "cell_type": "code",
   "execution_count": 304,
   "metadata": {},
   "outputs": [
    {
     "data": {
      "text/plain": [
       "0.1872305737733886"
      ]
     },
     "execution_count": 304,
     "metadata": {},
     "output_type": "execute_result"
    }
   ],
   "source": [
    "#Fraction captured by random 10 values\n",
    "idx_r10=np.random.choice(range(s.size),size=10)\n",
    "A_r10=p[:,idx_r10] @ np.diag(s[idx_r10]) @ q[idx_r10,:]\n",
    "fraction_r10=Forb_norm_mat(A_r10)/f_a\n",
    "fraction_r10"
   ]
  },
  {
   "cell_type": "code",
   "execution_count": 309,
   "metadata": {},
   "outputs": [
    {
     "data": {
      "text/plain": [
       "<matplotlib.legend.Legend at 0x19f68ab3dc8>"
      ]
     },
     "execution_count": 309,
     "metadata": {},
     "output_type": "execute_result"
    },
    {
     "data": {
      "image/png": "[encoded data removed]",
      "text/plain": [
       "<Figure size 432x288 with 1 Axes>"
      ]
     },
     "metadata": {
      "needs_background": "light"
     },
     "output_type": "display_data"
    }
   ],
   "source": [
    "#Change t_s to zoom out in graph like t_s=5 will show that only one singular vector will enough to cappture 85% data.\n",
    "#Simillarly t_s=20 and t_s=25 will change the graph accordingly\n",
    "t_s=s.size  # s.size=100\n",
    "fraction=[]\n",
    "n_s=range(0,t_s+1)\n",
    "for i in n_s:\n",
    "    A_i=p[:,0:i] @ np.diag(s[0:i]) @ q[0:i,:]\n",
    "    fraction_i=Forb_norm_mat(A_i)/f_a\n",
    "    fraction.append(fraction_i)\n",
    "plt.plot(n_s,fraction,'b-',n_s,0.95*np.ones(len(n_s)),'g--',0.75*np.ones(len(n_s)),'r--',0.50*np.ones(len(n_s)),'y--')\n",
    "plt.xlabel('No. of singular vectors')\n",
    "plt.ylabel('Fraction of data captured')\n",
    "plt.legend(('Curve showing data captured','95% line','75% line','50% line'))"
   ]
  }
 ],
 "metadata": {
  "kernelspec": {
   "display_name": "Python 3",
   "language": "python",
   "name": "python3"
  },
  "language_info": {
   "codemirror_mode": {
    "name": "ipython",
    "version": 3
   },
   "file_extension": ".py",
   "mimetype": "text/x-python",
   "name": "python",
   "nbconvert_exporter": "python",
   "pygments_lexer": "ipython3",
   "version": "3.7.4"
  }
 },
 "nbformat": 4,
 "nbformat_minor": 2
}

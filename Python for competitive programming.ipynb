{
 "cells": [
  {
   "cell_type": "markdown",
   "metadata": {},
   "source": [
    "# Python for competitive Programming"
   ]
  },
  {
   "cell_type": "markdown",
   "metadata": {},
   "source": [
    "## Input Output ricks in python"
   ]
  },
  {
   "cell_type": "code",
   "execution_count": 10,
   "metadata": {},
   "outputs": [
    {
     "name": "stdout",
     "output_type": "stream",
     "text": [
      "2 3\n"
     ]
    }
   ],
   "source": [
    "m,n=map(int,input().split())"
   ]
  },
  {
   "cell_type": "code",
   "execution_count": 13,
   "metadata": {},
   "outputs": [
    {
     "data": {
      "text/plain": [
       "int"
      ]
     },
     "execution_count": 13,
     "metadata": {},
     "output_type": "execute_result"
    }
   ],
   "source": [
    "type(m)"
   ]
  },
  {
   "cell_type": "code",
   "execution_count": 16,
   "metadata": {},
   "outputs": [
    {
     "name": "stdout",
     "output_type": "stream",
     "text": [
      "2 3 4\n"
     ]
    }
   ],
   "source": [
    "m,_,n=map(int,input().split())"
   ]
  },
  {
   "cell_type": "code",
   "execution_count": 20,
   "metadata": {},
   "outputs": [
    {
     "name": "stdout",
     "output_type": "stream",
     "text": [
      "2 4\n"
     ]
    }
   ],
   "source": [
    "print(m,n)"
   ]
  },
  {
   "cell_type": "code",
   "execution_count": 25,
   "metadata": {},
   "outputs": [
    {
     "name": "stdout",
     "output_type": "stream",
     "text": [
      "Vaibhav kumar\n"
     ]
    }
   ],
   "source": [
    "m,n=input().split()"
   ]
  },
  {
   "cell_type": "code",
   "execution_count": 29,
   "metadata": {},
   "outputs": [
    {
     "name": "stdout",
     "output_type": "stream",
     "text": [
      "Vaibhavkumar\n"
     ]
    }
   ],
   "source": [
    "print(m+n)"
   ]
  },
  {
   "cell_type": "code",
   "execution_count": 30,
   "metadata": {},
   "outputs": [
    {
     "name": "stdout",
     "output_type": "stream",
     "text": [
      "2 3 5 4 65 I love Python\n"
     ]
    }
   ],
   "source": [
    "l=list(input().split())"
   ]
  },
  {
   "cell_type": "code",
   "execution_count": 32,
   "metadata": {},
   "outputs": [
    {
     "data": {
      "text/plain": [
       "['2', '3', '5', '4', '65', 'I', 'love', 'Python']"
      ]
     },
     "execution_count": 32,
     "metadata": {},
     "output_type": "execute_result"
    }
   ],
   "source": [
    "l"
   ]
  },
  {
   "cell_type": "code",
   "execution_count": 38,
   "metadata": {},
   "outputs": [
    {
     "name": "stdout",
     "output_type": "stream",
     "text": [
      "2 3\n"
     ]
    }
   ],
   "source": [
    "*m,n=input().split()"
   ]
  },
  {
   "cell_type": "code",
   "execution_count": 40,
   "metadata": {},
   "outputs": [
    {
     "name": "stdout",
     "output_type": "stream",
     "text": [
      "<class 'list'> <class 'str'>\n"
     ]
    }
   ],
   "source": [
    "print(type(m),type(n))"
   ]
  },
  {
   "cell_type": "markdown",
   "metadata": {},
   "source": [
    "### For google codejam"
   ]
  },
  {
   "cell_type": "code",
   "execution_count": 43,
   "metadata": {},
   "outputs": [
    {
     "name": "stdout",
     "output_type": "stream",
     "text": [
      "Case #1: 0\n",
      "Case #2: 1\n",
      "Case #3: 2\n",
      "Case #4: 3\n",
      "Case #5: 4\n"
     ]
    }
   ],
   "source": [
    "for i in range(5):\n",
    "    print(\"Case #{}: {}\".format(i+1,i))"
   ]
  },
  {
   "cell_type": "markdown",
   "metadata": {},
   "source": [
    "### Some faster implementation"
   ]
  },
  {
   "cell_type": "code",
   "execution_count": 49,
   "metadata": {},
   "outputs": [
    {
     "ename": "ValueError",
     "evalue": "invalid literal for int() with base 10: ''",
     "output_type": "error",
     "traceback": [
      "\u001b[0;31m--------------------------------------------------------------------------\u001b[0m",
      "\u001b[0;31mValueError\u001b[0m                               Traceback (most recent call last)",
      "\u001b[0;32m<ipython-input-49-b03da4cbc2f6>\u001b[0m in \u001b[0;36m<module>\u001b[0;34m\u001b[0m\n\u001b[1;32m      1\u001b[0m \u001b[0;32mimport\u001b[0m \u001b[0msys\u001b[0m\u001b[0;34m\u001b[0m\u001b[0;34m\u001b[0m\u001b[0m\n\u001b[0;32m----> 2\u001b[0;31m \u001b[0mm\u001b[0m\u001b[0;34m,\u001b[0m\u001b[0mn\u001b[0m\u001b[0;34m=\u001b[0m\u001b[0mmap\u001b[0m\u001b[0;34m(\u001b[0m\u001b[0mint\u001b[0m\u001b[0;34m,\u001b[0m\u001b[0msys\u001b[0m\u001b[0;34m.\u001b[0m\u001b[0mstdin\u001b[0m\u001b[0;34m.\u001b[0m\u001b[0mreadline\u001b[0m\u001b[0;34m(\u001b[0m\u001b[0;34m)\u001b[0m\u001b[0;34m.\u001b[0m\u001b[0msplit\u001b[0m\u001b[0;34m(\u001b[0m\u001b[0;34m' '\u001b[0m\u001b[0;34m)\u001b[0m\u001b[0;34m)\u001b[0m\u001b[0;34m\u001b[0m\u001b[0;34m\u001b[0m\u001b[0m\n\u001b[0m",
      "\u001b[0;31mValueError\u001b[0m: invalid literal for int() with base 10: ''"
     ]
    }
   ],
   "source": [
    "import sys\n",
    "m,n=map(int,sys.stdin.readline().split(' '))"
   ]
  },
  {
   "cell_type": "markdown",
   "metadata": {},
   "source": [
    "### Python Strings"
   ]
  },
  {
   "cell_type": "code",
   "execution_count": 51,
   "metadata": {},
   "outputs": [
    {
     "name": "stdout",
     "output_type": "stream",
     "text": [
      "vahbiaV\n"
     ]
    }
   ],
   "source": [
    "#To print a reverse string\n",
    "s='Vaibhav'\n",
    "print(s[::-1])"
   ]
  },
  {
   "cell_type": "code",
   "execution_count": 57,
   "metadata": {},
   "outputs": [
    {
     "name": "stdout",
     "output_type": "stream",
     "text": [
      "\n",
      " is used for next line\n",
      "\\n is used for next line\n"
     ]
    }
   ],
   "source": [
    "s='\\n is used for next line'\n",
    "print(s)\n",
    "s=r'\\n is used for next line'#r stands for raw string which ignores escape sequences\n",
    "print(s)"
   ]
  },
  {
   "cell_type": "code",
   "execution_count": 60,
   "metadata": {},
   "outputs": [
    {
     "name": "stdout",
     "output_type": "stream",
     "text": [
      "Vaibhav is Great\n"
     ]
    }
   ],
   "source": [
    "#Format function\n",
    "print(\"{} {} {}\".format(\"Vaibhav\",\"is\",\"Great\"))"
   ]
  },
  {
   "cell_type": "code",
   "execution_count": 64,
   "metadata": {},
   "outputs": [
    {
     "name": "stdout",
     "output_type": "stream",
     "text": [
      "1010\n",
      "1.000000e+01\n",
      "10.00\n"
     ]
    }
   ],
   "source": [
    "#Format function for numbers\n",
    "print(\"{0:b}\".format(10))\n",
    "print(\"{0:e}\".format(10))\n",
    "print(\"{0:.2f}\".format(10))"
   ]
  },
  {
   "cell_type": "code",
   "execution_count": 1,
   "metadata": {},
   "outputs": [
    {
     "name": "stdout",
     "output_type": "stream",
     "text": [
      "Left justifiedCenter justifiedRight Justified\n"
     ]
    },
    {
     "data": {
      "text/plain": [
       "'Left justified        Center justified       Right Justified'"
      ]
     },
     "execution_count": 1,
     "metadata": {},
     "output_type": "execute_result"
    }
   ],
   "source": [
    "#format for alignment\n",
    "s=\"{1:<10}{0:^10}{2:>10}\".format('Center justified','Left justified','Right Justified')\n",
    "print(s)\n",
    "s=\"{1:<20}{0:^20}{2:>20}\".format('Center justified','Left justified','Right Justified')\n",
    "s"
   ]
  },
  {
   "cell_type": "markdown",
   "metadata": {},
   "source": [
    "### String functions"
   ]
  },
  {
   "cell_type": "code",
   "execution_count": 10,
   "metadata": {},
   "outputs": [
    {
     "name": "stdout",
     "output_type": "stream",
     "text": [
      "False\n",
      "True\n",
      "False\n",
      "True\n",
      "True\n",
      "True\n"
     ]
    }
   ],
   "source": [
    "s='Vaibhav'\n",
    "print(s.isdigit(),s.isalpha(),s.isdecimal(),\n",
    "     s.isidentifier(),s.isalnum(),s.istitle(),sep='\\n')"
   ]
  },
  {
   "cell_type": "code",
   "execution_count": 20,
   "metadata": {},
   "outputs": [
    {
     "name": "stdout",
     "output_type": "stream",
     "text": [
      "+91-9999999999\n",
      "['+91', '9999999999']\n"
     ]
    }
   ],
   "source": [
    "mobile_no=9999999999\n",
    "s=\"-\".join(['+91',str(mobile_no)])\n",
    "l=s.split(sep='-')\n",
    "print(s,l,sep='\\n')"
   ]
  },
  {
   "cell_type": "code",
   "execution_count": 25,
   "metadata": {},
   "outputs": [
    {
     "name": "stdout",
     "output_type": "stream",
     "text": [
      "This IS noT a TiTLE CAse\n",
      "This is not a title case\n",
      "this is not a title case\n",
      "THIS IS NOT A TITLE CASE\n",
      "tHIS is NOt A tItle caSE\n"
     ]
    }
   ],
   "source": [
    "s='This IS noT a TiTLE CAse'\n",
    "print(s,s.capitalize(),s.lower(),s.upper(),\n",
    "     s.swapcase(),sep='\\n')"
   ]
  },
  {
   "cell_type": "code",
   "execution_count": 31,
   "metadata": {},
   "outputs": [
    {
     "name": "stdout",
     "output_type": "stream",
     "text": [
      "Vaibhav*************\n",
      "             Vaibhav\n",
      "      Vaibhav       \n"
     ]
    }
   ],
   "source": [
    "s='Vaibhav'\n",
    "print(s.ljust(20,'*'),s.rjust(20),s.center(20),sep='\\n')"
   ]
  },
  {
   "cell_type": "code",
   "execution_count": 39,
   "metadata": {},
   "outputs": [
    {
     "data": {
      "text/plain": [
       "'This has again word repeated again and again'"
      ]
     },
     "execution_count": 39,
     "metadata": {},
     "output_type": "execute_result"
    }
   ],
   "source": [
    "s='This has repeat word repeated again and again'\n",
    "s.replace('repeat','again',1)"
   ]
  },
  {
   "cell_type": "code",
   "execution_count": 52,
   "metadata": {},
   "outputs": [
    {
     "name": "stdout",
     "output_type": "stream",
     "text": [
      "         This has unwanted marks and spaces*         \n",
      "This has unwanted marks and spaces*\n",
      "         This has unwanted marks and spaces*\n",
      "This has unwanted marks and spaces*         \n"
     ]
    }
   ],
   "source": [
    "s='         This has unwanted marks and spaces*         '\n",
    "print(s,s.strip(),s.rstrip(),s.lstrip(),sep='\\n')"
   ]
  },
  {
   "cell_type": "code",
   "execution_count": 64,
   "metadata": {},
   "outputs": [
    {
     "name": "stdout",
     "output_type": "stream",
     "text": [
      "The quick brown fox runs over a lazy dog\n",
      "1\n",
      "30\n",
      "33\n"
     ]
    }
   ],
   "source": [
    "s='The quick brown fox runs over a lazy dog'\n",
    "print(s,s.count('The'),s.find('a'),s.rfind('a')\n",
    "      ,sep='\\n')"
   ]
  },
  {
   "cell_type": "code",
   "execution_count": 74,
   "metadata": {},
   "outputs": [
    {
     "data": {
      "text/plain": [
       "(\"I don't \", 'have', ' another examples')"
      ]
     },
     "execution_count": 74,
     "metadata": {},
     "output_type": "execute_result"
    }
   ],
   "source": [
    "s=\"I don't have another examples\"\n",
    "s.partition('have')"
   ]
  },
  {
   "cell_type": "markdown",
   "metadata": {},
   "source": [
    "### List functions"
   ]
  },
  {
   "cell_type": "code",
   "execution_count": 110,
   "metadata": {},
   "outputs": [
    {
     "name": "stdout",
     "output_type": "stream",
     "text": [
      "['This', 'list', 'l', 'is', 'not', 'exhaustive', 'for', 'eg.', 'for eg.']\n",
      "['This', 'list', 'l', 'is', 'not', 'exhaustive', 'for', 'for eg.']\n",
      "['This', 'list', 'l', 'is', 'not', 'exhaustive', 'for']\n",
      "6\n",
      "2\n"
     ]
    }
   ],
   "source": [
    "l='This list is not exhaustive'.split()\n",
    "l.append('for')\n",
    "l.extend(['eg.','for eg.'])\n",
    "l.insert(2,'l')\n",
    "print(l)\n",
    "l.remove('eg.')\n",
    "print(l)\n",
    "l.pop()\n",
    "print(l)\n",
    "l.append('for')\n",
    "print(l.index('for'))\n",
    "print(l.count('for'))"
   ]
  },
  {
   "cell_type": "code",
   "execution_count": 118,
   "metadata": {},
   "outputs": [
    {
     "name": "stdout",
     "output_type": "stream",
     "text": [
      "[1, 1, 2, 2, 3, 5, 13, 22, 56, 432]\n",
      "[432, 56, 22, 13, 5, 3, 2, 2, 1, 1]\n"
     ]
    }
   ],
   "source": [
    "l=[1,2,1,2,5,3,56,432,22,13]\n",
    "l.sort()\n",
    "print(l)\n",
    "l.reverse()\n",
    "print(l)"
   ]
  },
  {
   "cell_type": "code",
   "execution_count": 122,
   "metadata": {},
   "outputs": [
    {
     "name": "stdout",
     "output_type": "stream",
     "text": [
      "2 3\n"
     ]
    }
   ],
   "source": [
    "m,n=map(int,input().split())"
   ]
  },
  {
   "cell_type": "code",
   "execution_count": 138,
   "metadata": {},
   "outputs": [
    {
     "name": "stdout",
     "output_type": "stream",
     "text": [
      "[0, 2, 4, 6, 8]\n",
      "[0, 2, 4, 6, 8]\n"
     ]
    }
   ],
   "source": [
    "l=list(range(10))\n",
    "def iseven(x):\n",
    "    return bool(not(x%2))\n",
    "f=filter(iseven,range(10))\n",
    "print(list(f))\n",
    "#Lambda function- The Anonymous function\n",
    "f=filter(lambda x:bool(not(x%2)),range(10))\n",
    "print(list(f))"
   ]
  },
  {
   "cell_type": "markdown",
   "metadata": {},
   "source": [
    "### Tuples functions"
   ]
  },
  {
   "cell_type": "code",
   "execution_count": 139,
   "metadata": {},
   "outputs": [],
   "source": [
    "#You know all about it"
   ]
  },
  {
   "cell_type": "markdown",
   "metadata": {},
   "source": [
    "### Set functions"
   ]
  },
  {
   "cell_type": "code",
   "execution_count": 150,
   "metadata": {},
   "outputs": [],
   "source": [
    "s=set()#to create an empty set\n",
    "s.add('3')\n",
    "s.update(['1','2'])\n",
    "s.remove('1')\n",
    "s.discard('2')#Doesn't give key error if the element doesn't exist\n",
    "s.clear()\n",
    "s\n",
    "#Frozen sets\n",
    "s=frozenset(('V','a','i'))#immutable"
   ]
  },
  {
   "cell_type": "code",
   "execution_count": 163,
   "metadata": {},
   "outputs": [
    {
     "name": "stdout",
     "output_type": "stream",
     "text": [
      "{1, 2, 3, 4, 5, 6, 7, 8}\n",
      "{3, 4, 5}\n",
      "{1, 2}\n",
      "{1, 2, 6, 7, 8}\n",
      "False\n",
      "False\n",
      "False\n"
     ]
    }
   ],
   "source": [
    "#math functions\n",
    "s1={1,2,3,4,5}\n",
    "s2={3,4,5,6,7,8}\n",
    "print(s1.union(s2),s1.intersection(s2),s1.difference(s2),\n",
    "      s1.symmetric_difference(s2),s1.isdisjoint(s2),s1.issubset(s2),\n",
    "      s1.issuperset(s2),sep='\\n')"
   ]
  },
  {
   "cell_type": "code",
   "execution_count": 166,
   "metadata": {},
   "outputs": [
    {
     "data": {
      "text/plain": [
       "{2, 3}"
      ]
     },
     "execution_count": 166,
     "metadata": {},
     "output_type": "execute_result"
    }
   ],
   "source": [
    "s1={1,2,3}\n",
    "s2={2,3,4}\n",
    "s1.intersection_update(s2)#Same for all _update functions\n",
    "s1"
   ]
  },
  {
   "cell_type": "markdown",
   "metadata": {},
   "source": [
    "### Dictionary functions"
   ]
  },
  {
   "cell_type": "code",
   "execution_count": 179,
   "metadata": {},
   "outputs": [
    {
     "name": "stdout",
     "output_type": "stream",
     "text": [
      "dict_values(['Vaibhav', 'Janak', 'Krupal'])\n",
      "dict_keys(['A', 'B', 'C'])\n",
      "dict_items([('A', 'Vaibhav'), ('B', 'Janak'), ('C', 'Krupal')])\n"
     ]
    },
    {
     "data": {
      "text/plain": [
       "{'A': ['Vaibhav', 'Janak', 'Krupal', 'Anand'],\n",
       " 'B': ['Vaibhav', 'Janak', 'Krupal', 'Anand'],\n",
       " 'C': ['Vaibhav', 'Janak', 'Krupal', 'Anand'],\n",
       " 'D': ['Vaibhav', 'Janak', 'Krupal', 'Anand']}"
      ]
     },
     "execution_count": 179,
     "metadata": {},
     "output_type": "execute_result"
    }
   ],
   "source": [
    "d={'A':'Vaibhav','B':'Janak','C':'Krupal'}\n",
    "print(d.values())\n",
    "print(d.keys())\n",
    "print(d.items())\n",
    "# see the effect of fromkeys\n",
    "d.fromkeys(['A','B','C','D'],\n",
    "          ['Vaibhav','Janak','Krupal','Anand'])#to generate dictionary from list/sequence"
   ]
  },
  {
   "cell_type": "markdown",
   "metadata": {},
   "source": [
    "### Arrays in python"
   ]
  },
  {
   "cell_type": "code",
   "execution_count": 226,
   "metadata": {},
   "outputs": [
    {
     "name": "stdout",
     "output_type": "stream",
     "text": [
      "2\n",
      "array('i', [10, 9, 8, 7, 6, 5, 4, 3, 2, 1, 0])\n",
      "2\n",
      "array('i', [10, 9, 8, 7, 6, 5, 4, 3, 2, 1, 0, 0, 1, 2, 3, 44, 45])\n"
     ]
    },
    {
     "data": {
      "text/plain": [
       "list"
      ]
     },
     "execution_count": 226,
     "metadata": {},
     "output_type": "execute_result"
    }
   ],
   "source": [
    "import array as ar\n",
    "a=ar.array('i',range(10))\n",
    "print(a[2])\n",
    "a.append(10)\n",
    "a.insert(2,11)\n",
    "a.pop(2)#argument is index #it returns the removed element too.\n",
    "a.insert(2,8)\n",
    "a.index(8)#returns first occurenece of the element from left\n",
    "a.remove(8)#removes the first occurrnce of the element from left\n",
    "a.reverse()\n",
    "print(a)\n",
    "a.extend(ar.array('i',range(4)))\n",
    "print(a.count(1))\n",
    "a.fromlist([44,45])\n",
    "print(a)\n",
    "l=a.tolist()\n",
    "type(l)"
   ]
  },
  {
   "cell_type": "code",
   "execution_count": 227,
   "metadata": {},
   "outputs": [
    {
     "name": "stdout",
     "output_type": "stream",
     "text": [
      "i 4 (140493475319296, 17)\n"
     ]
    }
   ],
   "source": [
    "print(a.typecode,a.itemsize,a.buffer_info())\n",
    "#itemsize returns size in byte of a single element\n",
    "#buffer_info() returns (address in which array is stored,no. of elements)"
   ]
  },
  {
   "cell_type": "markdown",
   "metadata": {},
   "source": [
    "|'Type Code'| C type |Python type|Minimum size in bytes|\n",
    "|---------|---------|--------|-------------|\n",
    "|‘b’| \tsigned char \t    |int              |1|\n",
    "|‘B’| \tunsigned char \t    |int              |1|\n",
    "|‘u’| \tPy_UNICODE \t        |unicode character|2|\n",
    "|‘h’| \tsigned short \t    |int              |2|\n",
    "|‘H’| \tunsigned short \t    |int              |2|\n",
    "|‘i’| \tsigned int \t        |int              |2|\n",
    "|‘I’| \tunsigned int \t    |int              |2|\n",
    "|‘l’| \tsigned long \t    |int              |4|\n",
    "|‘L’| \tunsigned long \t    |int              |4|\n",
    "|‘q’| \tsigned long long    |int              |8|\n",
    "|‘Q’| \tunsigned long long \t|int              |8|\n",
    "|‘f’| \tfloat \t            |float            |4|\n",
    "|‘d’| \tdouble \t            |float            |8|"
   ]
  },
  {
   "cell_type": "markdown",
   "metadata": {},
   "source": [
    "### Common functions"
   ]
  },
  {
   "cell_type": "markdown",
   "metadata": {},
   "source": [
    "enumerate()\n",
    "min()\n",
    "max()\n",
    "len()\n",
    "sum()\n",
    "all()\n",
    "any()\n",
    "sorted()\n",
    "del\n",
    "data_structure.pop()\n",
    "data_structure.clear()"
   ]
  }
 ],
 "metadata": {
  "kernelspec": {
   "display_name": "Python 3",
   "language": "python",
   "name": "python3"
  },
  "language_info": {
   "codemirror_mode": {
    "name": "ipython",
    "version": 3
   },
   "file_extension": ".py",
   "mimetype": "text/x-python",
   "name": "python",
   "nbconvert_exporter": "python",
   "pygments_lexer": "ipython3",
   "version": "3.7.1"
  }
 },
 "nbformat": 4,
 "nbformat_minor": 2
}

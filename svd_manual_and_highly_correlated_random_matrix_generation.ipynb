{
 "cells": [
  {
   "cell_type": "code",
   "execution_count": 2,
   "metadata": {},
   "outputs": [],
   "source": [
    "import numpy as np\n",
    "import matplotlib.pyplot as plt\n",
    "from sklearn.model_selection import train_test_split\n",
    "from scipy import optimize\n",
    "from scipy.stats import multivariate_normal\n",
    "import pandas as pd\n",
    "import os\n",
    "from math import *"
   ]
  },
  {
   "cell_type": "code",
   "execution_count": 68,
   "metadata": {},
   "outputs": [
    {
     "data": {
      "text/plain": [
       "array([[1., 2., 3.],\n",
       "       [4., 5., 6.]])"
      ]
     },
     "execution_count": 68,
     "metadata": {},
     "output_type": "execute_result"
    }
   ],
   "source": [
    "# A=np.array([[1,2,3],[4,5,6]])\n",
    "# p,s,q=np.linalg.svd(A,full_matrices=True)\n",
    "# s_a=np.zeros(A.shape)\n",
    "# for i in range(2): s_a[i,i]=s[i]\n",
    "# p @ s_a @ q"
   ]
  },
  {
   "cell_type": "code",
   "execution_count": 104,
   "metadata": {},
   "outputs": [],
   "source": [
    "def svd_man(A):\n",
    "    C_m=A @ A.transpose()\n",
    "    lam_m,q_m=np.linalg.eig(C_m)\n",
    "    idx = lam_m.argsort()[::-1]         #Eigen Values and corresponding eigen vectors are sorted in descending order\n",
    "    lam_m = lam_m[idx]\n",
    "    q_m = q_m[:,idx]\n",
    "    C_n=A.transpose() @ A\n",
    "    lam_n,q_n=np.linalg.eig(C_n)\n",
    "    idx = lam_n.argsort()[::-1]         #Eigen Values and corresponding eigen vectors are sorted in descending order\n",
    "    lam_n = lam_n[idx]\n",
    "    q_n = q_n[:,idx]\n",
    "    p=q_m\n",
    "    if lam_m.size<=lam_n.size:\n",
    "        s=np.sqrt(lam_m) \n",
    "    else:\n",
    "        s=lam_n\n",
    "    q=q_n.transpose()\n",
    "    return p,s,q"
   ]
  },
  {
   "cell_type": "code",
   "execution_count": 244,
   "metadata": {},
   "outputs": [
    {
     "data": {
      "text/plain": [
       "array([[-5.55111512e-17, -3.33066907e-16,  3.55271368e-15,\n",
       "         6.88338275e-15, -2.49800181e-15],\n",
       "       [ 0.00000000e+00, -1.05471187e-15, -4.49640325e-15,\n",
       "         1.02140518e-14,  5.55111512e-15],\n",
       "       [ 0.00000000e+00,  1.36002321e-15,  2.66453526e-15,\n",
       "         2.66453526e-15, -3.28903571e-15],\n",
       "       [ 5.55111512e-17,  3.05311332e-16,  5.99520433e-15,\n",
       "        -3.65818487e-14,  4.44089210e-16],\n",
       "       [ 3.33066907e-16, -3.33066907e-16, -8.21565038e-15,\n",
       "         2.14203655e-14, -2.22044605e-16]])"
      ]
     },
     "execution_count": 244,
     "metadata": {},
     "output_type": "execute_result"
    }
   ],
   "source": [
    "# sig=0.2\n",
    "# mu=1\n",
    "# l=np.arange(2,10)\n",
    "# (m,n)=np.random.choice(l,2)\n",
    "# A=np.random.randn(m,n)*sig + mu\n",
    "# i=0\n",
    "# np.linalg.svd(A)[i]-svd_man(A)[i]"
   ]
  },
  {
   "cell_type": "code",
   "execution_count": 311,
   "metadata": {},
   "outputs": [],
   "source": [
    "def vineBeta(d,betaparam):               #50,20,10,5,2,1 - values of betaparameter for decreasing correlation\n",
    "    P=np.zeros((d,d))\n",
    "    S=np.eye(d)\n",
    "    for k in range(d-1):\n",
    "        for i in range(k+1,d):\n",
    "            P[k,i]=np.random.beta(betaparam,betaparam)\n",
    "            P[k,i]=2*(P[k,i]-0.5)\n",
    "            p=P[k,i]\n",
    "            for l in range(k-1,-1,-1):\n",
    "                p=p*sqrt((1-(P[l,i])**2)*(1-(P[l,k])**2))+P[l,i]*P[l,k]\n",
    "            S[k,i]=p\n",
    "            S[i,k]=p\n",
    "    idx=np.random.permutation(d)\n",
    "    S=S[idx,:]\n",
    "    S=S[:,idx]\n",
    "    return S\n",
    "def highly_correlated_random_matrix(x,betaparam):\n",
    "    r=vineBeta(x.shape[1],betaparam)                     # Assuming columns represents dimensions\n",
    "    c=np.linalg.cholesky(r)\n",
    "    y=c @ x\n",
    "    return y"
   ]
  },
  {
   "cell_type": "code",
   "execution_count": 312,
   "metadata": {},
   "outputs": [
    {
     "data": {
      "text/plain": [
       "array([[ 4.06239061e-01,  8.84562700e-01,  3.71947328e-01, ...,\n",
       "         8.58374697e-01,  4.50212653e-01,  1.83593325e-01],\n",
       "       [ 4.75816221e-02,  5.79341262e-01,  5.77907797e-01, ...,\n",
       "         8.05771562e-01,  7.48250604e-01,  8.74495454e-01],\n",
       "       [ 2.11455556e-01,  1.00936453e+00,  4.23300104e-01, ...,\n",
       "         8.71892291e-01,  5.65483638e-01,  6.23964060e-01],\n",
       "       ...,\n",
       "       [ 5.01122453e-01,  3.87093081e-02,  1.84440823e-01, ...,\n",
       "        -2.06710777e-04,  3.55865638e-01, -2.75969461e-01],\n",
       "       [-1.48019137e-01,  2.14188166e-01,  6.76064850e-01, ...,\n",
       "         5.75253673e-01, -1.58174146e-01,  2.08530245e-01],\n",
       "       [ 3.48917414e-01,  5.15214523e-01,  3.06484375e-01, ...,\n",
       "        -2.73301965e-01,  9.17149925e-02,  6.68639644e-01]])"
      ]
     },
     "execution_count": 312,
     "metadata": {},
     "output_type": "execute_result"
    }
   ],
   "source": [
    "# Demonstration of use of above function\n",
    "x=np.random.random((100,100))#Random uniform 100x100 matrix\n",
    "betaparam=50 #For high correlation\n",
    "highly_correlated_random_matrix(x,betaparam)"
   ]
  },
  {
   "cell_type": "code",
   "execution_count": 288,
   "metadata": {},
   "outputs": [
    {
     "data": {
      "image/png": "[encoded data removed]",
      "text/plain": [
       "<Figure size 432x288 with 3 Axes>"
      ]
     },
     "metadata": {
      "needs_background": "light"
     },
     "output_type": "display_data"
    }
   ],
   "source": [
    "# \"\"\"Example of generating correlated normally distributed random samples.\"\"\"\n",
    "\n",
    "# import numpy as np\n",
    "# from scipy.linalg import eigh, cholesky\n",
    "# from scipy.stats import norm\n",
    "\n",
    "# from pylab import plot, show, axis, subplot, xlabel, ylabel, grid\n",
    "\n",
    "\n",
    "# # Choice of cholesky or eigenvector method.\n",
    "# method = 'cholesky'\n",
    "# #method = 'eigenvectors'\n",
    "\n",
    "# num_samples = 5\n",
    "\n",
    "# # The desired covariance matrix.\n",
    "# r = np.array([\n",
    "#         [  3.40, -2.75, -2.00],\n",
    "#         [ -2.75,  5.50,  1.50],\n",
    "#         [ -2.00,  1.50,  1.25]\n",
    "#     ])\n",
    "\n",
    "# # Generate samples from three independent normally distributed random\n",
    "# # variables (with mean 0 and std. dev. 1).\n",
    "# x = norm.rvs(size=(3, num_samples))\n",
    "\n",
    "# # We need a matrix `c` for which `c*c^T = r`.  We can use, for example,\n",
    "# # the Cholesky decomposition, or the we can construct `c` from the\n",
    "# # eigenvectors and eigenvalues.\n",
    "\n",
    "# if method == 'cholesky':\n",
    "#     # Compute the Cholesky decomposition.\n",
    "#     c = cholesky(r, lower=True)\n",
    "# else:\n",
    "#     # Compute the eigenvalues and eigenvectors.\n",
    "#     evals, evecs = eigh(r)\n",
    "#     # Construct c, so c*c^T = r.\n",
    "#     c = np.dot(evecs, np.diag(np.sqrt(evals)))\n",
    "\n",
    "# # Convert the data to correlated random variables. \n",
    "# y = np.dot(c, x)\n",
    "\n",
    "# #\n",
    "# # Plot various projections of the samples.\n",
    "# #\n",
    "# subplot(2,2,1)\n",
    "# plot(y[0], y[1], 'b.')\n",
    "# ylabel('y[1]')\n",
    "# axis('equal')\n",
    "# grid(True)\n",
    "\n",
    "# subplot(2,2,3)\n",
    "# plot(y[0], y[2], 'b.')\n",
    "# xlabel('y[0]')\n",
    "# ylabel('y[2]')\n",
    "# axis('equal')\n",
    "# grid(True)\n",
    "\n",
    "# subplot(2,2,4)\n",
    "# plot(y[1], y[2], 'b.')\n",
    "# xlabel('y[1]')\n",
    "# axis('equal')\n",
    "# grid(True)\n",
    "\n",
    "# show()"
   ]
  },
  {
   "cell_type": "code",
   "execution_count": 289,
   "metadata": {},
   "outputs": [
    {
     "data": {
      "text/plain": [
       "array([[ 0.40849783,  1.95054881,  0.43107583,  1.13762679, -0.27626755],\n",
       "       [ 0.94260285,  0.85942734,  0.60848631, -0.56986569,  1.28786325],\n",
       "       [-0.8818074 ,  0.58532171,  0.73514386,  0.87922652,  1.14575567]])"
      ]
     },
     "execution_count": 289,
     "metadata": {},
     "output_type": "execute_result"
    }
   ],
   "source": [
    "# x = norm.rvs(size=(3, num_samples))\n",
    "# x"
   ]
  }
 ],
 "metadata": {
  "kernelspec": {
   "display_name": "Python 3",
   "language": "python",
   "name": "python3"
  },
  "language_info": {
   "codemirror_mode": {
    "name": "ipython",
    "version": 3
   },
   "file_extension": ".py",
   "mimetype": "text/x-python",
   "name": "python",
   "nbconvert_exporter": "python",
   "pygments_lexer": "ipython3",
   "version": "3.7.4"
  }
 },
 "nbformat": 4,
 "nbformat_minor": 2
}

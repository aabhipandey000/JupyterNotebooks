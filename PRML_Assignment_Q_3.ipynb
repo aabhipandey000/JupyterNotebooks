{
 "cells": [
  {
   "cell_type": "code",
   "execution_count": 1,
   "metadata": {},
   "outputs": [],
   "source": [
    "import numpy as np\n",
    "import matplotlib.pyplot as plt\n",
    "from sklearn.model_selection import train_test_split\n",
    "from scipy import optimize\n",
    "from scipy.stats import multivariate_normal\n",
    "import pandas as pd\n",
    "import os\n",
    "from math import *"
   ]
  },
  {
   "cell_type": "code",
   "execution_count": 2,
   "metadata": {},
   "outputs": [],
   "source": [
    "#Parameters\n",
    "mu=[np.zeros(3),np.array([1,5,-3]),np.zeros(3)]\n",
    "sig=[np.diag([3,5,2]),np.array([[1,0,0],[0,4,1],[0,1,6]]),10*np.eye(3)]"
   ]
  },
  {
   "cell_type": "code",
   "execution_count": 5,
   "metadata": {},
   "outputs": [],
   "source": [
    "data_set=[]\n",
    "for i in range(3):\n",
    "    data_set.append(np.random.multivariate_normal(mu[i],sig[i],20))"
   ]
  },
  {
   "cell_type": "code",
   "execution_count": 101,
   "metadata": {},
   "outputs": [],
   "source": [
    "def mean_ml_est(data):\n",
    "    n,m=data.shape\n",
    "    mu=sum(data)/n\n",
    "    return mu\n",
    "def cov_ml_est(data):\n",
    "    n,m=data.shape\n",
    "    x=data-mean_ml_est(data)\n",
    "    cov_mat=(x.transpose() @ x)/n\n",
    "    return cov_mat"
   ]
  },
  {
   "cell_type": "code",
   "execution_count": 102,
   "metadata": {},
   "outputs": [],
   "source": [
    "#Part a\n",
    "mean_ml_estimates=[]\n",
    "cov_ml_estimates=[]\n",
    "for i in range(3):\n",
    "    mean_ml_estimates.append(mean_ml_est(data_set[i]))\n",
    "    cov_ml_estimates.append(cov_ml_est(data_set[i]))"
   ]
  },
  {
   "cell_type": "code",
   "execution_count": 113,
   "metadata": {},
   "outputs": [],
   "source": [
    "def normalize_man(data):\n",
    "    data_diff=data-np.mean(data,0)\n",
    "    return data_diff/np.std(data,0)"
   ]
  },
  {
   "cell_type": "code",
   "execution_count": 140,
   "metadata": {},
   "outputs": [],
   "source": [
    "data_n=[normalize_man(data_set[i]) for i in range(3)]\n",
    "data_con=np.concatenate((data_n[0],data_n[1],data_n[2]),axis=0)\n",
    "(cov_n,mu_n)=(cov_ml_est(data_con),mean_ml_est(data_con))"
   ]
  },
  {
   "cell_type": "code",
   "execution_count": 131,
   "metadata": {},
   "outputs": [],
   "source": [
    "def cov_shrink(cov_i,cov_n,a,n_i,n): #0<a<1\n",
    "    cov_s=(((1-a)*n_i*cov_i)+(a*n*cov_n))/((1-a)*n_i+a*n)\n",
    "    return cov_s"
   ]
  },
  {
   "cell_type": "code",
   "execution_count": 134,
   "metadata": {},
   "outputs": [],
   "source": [
    "#cov_shrink(cov_ml_estimates[0],cov_n,0.1,20,60)"
   ]
  },
  {
   "cell_type": "code",
   "execution_count": 166,
   "metadata": {},
   "outputs": [],
   "source": [
    "df=pd.DataFrame(data_con,columns=['x1','x2','x3'])\n",
    "df['y']=[i for i in range(3) for j in range(20)]"
   ]
  },
  {
   "cell_type": "code",
   "execution_count": 167,
   "metadata": {},
   "outputs": [],
   "source": [
    "#Use cov_shrink for (0,1,2) for different alphas and train classifier using df\n",
    "# plot the graph\n",
    "# Now generate another 50 data sets don't train the model plot the test error vs salpha graph after that."
   ]
  }
 ],
 "metadata": {
  "kernelspec": {
   "display_name": "Python 3",
   "language": "python",
   "name": "python3"
  },
  "language_info": {
   "codemirror_mode": {
    "name": "ipython",
    "version": 3
   },
   "file_extension": ".py",
   "mimetype": "text/x-python",
   "name": "python",
   "nbconvert_exporter": "python",
   "pygments_lexer": "ipython3",
   "version": "3.7.4"
  }
 },
 "nbformat": 4,
 "nbformat_minor": 2
}

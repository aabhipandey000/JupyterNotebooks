{
 "cells": [
  {
   "cell_type": "code",
   "execution_count": 948,
   "metadata": {},
   "outputs": [],
   "source": [
    "import pandas as pd\n",
    "import numpy as np\n",
    "import math\n",
    "import matplotlib.pyplot as plt\n",
    "from sklearn.metrics import mean_squared_error\n",
    "import os\n",
    "from math import *"
   ]
  },
  {
   "cell_type": "code",
   "execution_count": 949,
   "metadata": {},
   "outputs": [],
   "source": [
    "#Parameters\n",
    "mu = [np.zeros(3),np.array([1,5,-3]),np.zeros(3)]\n",
    "sig = [np.diag([3,5,2]),np.array([[1,0,0],\n",
    "                                  [0,4,1],\n",
    "                                  [0,1,6]]),10*np.eye(3)]"
   ]
  },
  {
   "cell_type": "code",
   "execution_count": 950,
   "metadata": {
    "scrolled": true
   },
   "outputs": [],
   "source": [
    "data_set = [np.random.multivariate_normal(mu[i],sig[i],20) for i in range(3)]"
   ]
  },
  {
   "cell_type": "code",
   "execution_count": 951,
   "metadata": {},
   "outputs": [],
   "source": [
    "#ML estimate functions\n",
    "def mean_est_fun(data):\n",
    "    n,m=data.shape\n",
    "    mu=sum(data)/n\n",
    "    return mu\n",
    "def cov_est_fun(data):\n",
    "    n,m=data.shape\n",
    "    x=data-mean_est_fun(data)\n",
    "    cov_mat=(x.transpose() @ x)/n\n",
    "    return cov_mat"
   ]
  },
  {
   "cell_type": "code",
   "execution_count": 952,
   "metadata": {},
   "outputs": [
    {
     "name": "stdout",
     "output_type": "stream",
     "text": [
      "mu 0=  [ 0.39045171  0.57211118 -0.04090402]\n",
      "mu 1=  [ 0.83675365  5.87149345 -3.80256701]\n",
      "mu 2=  [1.23585846 0.19504445 1.06485597]\n",
      "Sigma 0= \n",
      "[[ 2.03634639 -0.43923157  0.31778526]\n",
      " [-0.43923157  3.63076433 -1.09952291]\n",
      " [ 0.31778526 -1.09952291  2.58115812]]\n",
      "Sigma 1= \n",
      "[[0.84353473 0.08810267 0.22540822]\n",
      " [0.08810267 3.86669101 0.33508424]\n",
      " [0.22540822 0.33508424 4.19609371]]\n",
      "Sigma 2= \n",
      "[[ 8.17806349 -0.47131682 -2.91053948]\n",
      " [-0.47131682 11.07629371  3.74818511]\n",
      " [-2.91053948  3.74818511  9.58587769]]\n"
     ]
    }
   ],
   "source": [
    "#Part a) Estimation of mean and covariance matrix\n",
    "mean_est = []\n",
    "cov_est = []\n",
    "for i in range(3):\n",
    "    mean_est.append(mean_est_fun(data_set[i]))\n",
    "    cov_est.append(cov_est_fun(data_set[i]))\n",
    "for i in range(3):\n",
    "    print(r'mu '+str(i)+'= ',mean_est[i])\n",
    "for i in range(3):\n",
    "    print(r'Sigma '+str(i)+'= ',cov_est[i],sep='\\n')"
   ]
  },
  {
   "cell_type": "code",
   "execution_count": 953,
   "metadata": {},
   "outputs": [],
   "source": [
    "#Data need to be normalised before finding total covariance\n",
    "def normalize_man(data):\n",
    "    data_diff = data-np.mean(data,0)\n",
    "    return data_diff/np.std(data,0)"
   ]
  },
  {
   "cell_type": "code",
   "execution_count": 954,
   "metadata": {},
   "outputs": [
    {
     "name": "stdout",
     "output_type": "stream",
     "text": [
      "Sigma Total= \n",
      "[[ 1.         -0.05409132 -0.02343401]\n",
      " [-0.05409132  1.          0.029258  ]\n",
      " [-0.02343401  0.029258    1.        ]]\n"
     ]
    }
   ],
   "source": [
    "#Calculation of total_cov\n",
    "data_n = [normalize_man(data_set[i]) for i in range(3)]\n",
    "data_con = np.concatenate((data_n[0],data_n[1],data_n[2]),axis=0)\n",
    "(cov_total,mu_total) = (cov_ml_est(data_con),mean_ml_est(data_con))\n",
    "print(r'Sigma Total= ',cov_total,sep='\\n')"
   ]
  },
  {
   "cell_type": "code",
   "execution_count": 955,
   "metadata": {},
   "outputs": [],
   "source": [
    "#Shrinking function\n",
    "def cov_shrink(cov_i,cov_n,a): #0<a<1\n",
    "    n_i,n = 20,60\n",
    "    cov_s=(((1-a)*n_i*cov_i) + (a*n*cov_n))/((1-a)*n_i + a*n)\n",
    "    return cov_s"
   ]
  },
  {
   "cell_type": "code",
   "execution_count": 956,
   "metadata": {},
   "outputs": [],
   "source": [
    "#Train labels generation\n",
    "train=pd.DataFrame(data_con,columns=['x1','x2','x3'])\n",
    "train_labels=[i for i in range(3) for j in range(20)]\n",
    "train_labels=pd.DataFrame(train_labels,columns=['train_class'])"
   ]
  },
  {
   "cell_type": "code",
   "execution_count": 957,
   "metadata": {},
   "outputs": [],
   "source": [
    "#Note prior = 1/3 as all the classes are equiprobable\n",
    "#Bayes Class posterior and risk functions\n",
    "class B_Class:\n",
    "    def __init__(self,p=1/3,mu_class=np.zeros((3,1)),cov_class = np.zeros((3,3))):\n",
    "\n",
    "        self.prob = p\n",
    "        self.mean = mu_class\n",
    "        self.cov_matrix = cov_class\n",
    "\n",
    "    def posterior(self,X):\n",
    "        p = self.prob\n",
    "        mu_class = self.mean\n",
    "        cov_class = self.cov_matrix\n",
    "        cov_inv = np.linalg.inv(cov_class)\n",
    "        cov_det = abs(np.linalg.det(cov_class))\n",
    "        n = X.size\n",
    "        X_dif=X-mu_class\n",
    "        Z= X_dif.T @ cov_inv @ X_dif\n",
    "        return p/np.sqrt(((2*pi)**n)*cov_det)*exp(-Z/2)\n",
    "\n",
    "def Risk(X,L,n,c):\n",
    "    u = np.array([c[0].posterior(X),c[1].posterior(X),c[2].posterior(X)])\n",
    "    v = L[n,:]\n",
    "    return np.dot(u,v)"
   ]
  },
  {
   "cell_type": "code",
   "execution_count": 958,
   "metadata": {},
   "outputs": [],
   "source": [
    "#Instances of class are initiated with means as ml estimated means\n",
    "class_b=[B_Class() for i in range(3)]\n",
    "for i in range(3):\n",
    "    class_b[i].mean=mean_est[i]"
   ]
  },
  {
   "cell_type": "code",
   "execution_count": 959,
   "metadata": {},
   "outputs": [],
   "source": [
    "#Bayes classifier for classes with different covariances\n",
    "def classifier(data,cov_1,cov_2,cov_3,class_b): \n",
    "    L = np.array([[0,1,1],[1,0,1],[1,1,0]])\n",
    "    class_b[0].cov_matrix = cov_1\n",
    "    class_b[1].cov_matrix = cov_2\n",
    "    class_b[2].cov_matrix = cov_3\n",
    "    labels_est = np.array([])\n",
    "    for i, r in data.iterrows():\n",
    "        X = r.values\n",
    "        risks = [ Risk(X,L,0,class_b), Risk(X,L,1,class_b), Risk(X,L,2,class_b) ]\n",
    "        i_min=risks.index(min(risks))\n",
    "        labels_est=np.append(labels_est,i_min) #Conversion needed as append gives error for class<'int'>\n",
    "        labels_est=pd.DataFrame(labels_est)\n",
    "    return labels_est"
   ]
  },
  {
   "cell_type": "code",
   "execution_count": 960,
   "metadata": {},
   "outputs": [],
   "source": [
    "#Bayes classifier trained\n",
    "a = np.linspace(0,1,100)\n",
    "errors_train = []\n",
    "\n",
    "for alpha in a:\n",
    "\n",
    "    cov_s = [cov_shrink(cov_est[i],cov_total,alpha) for i in range(3) ]\n",
    "    out_labels = classifier(train,cov_s[0],cov_s[1],cov_s[2],class_b)\n",
    "    errors_train.append(mean_squared_error(train_labels,out_labels))"
   ]
  },
  {
   "cell_type": "code",
   "execution_count": 961,
   "metadata": {},
   "outputs": [
    {
     "data": {
      "text/plain": [
       "Text(0.5, 1.0, 'Training Error vs $\\\\alpha$ for 20 data sets for each equiprobable class')"
      ]
     },
     "execution_count": 961,
     "metadata": {},
     "output_type": "execute_result"
    },
    {
     "data": {
      "image/png": "[encoded data removed]",
      "text/plain": [
       "<Figure size 432x288 with 1 Axes>"
      ]
     },
     "metadata": {
      "needs_background": "light"
     },
     "output_type": "display_data"
    }
   ],
   "source": [
    "#Training error plot vs alpha\n",
    "plt.figure()\n",
    "plt.plot(alphas,errors)\n",
    "plt.xlabel(r'$\\alpha$')\n",
    "plt.ylabel('MSE Error')\n",
    "plt.title(r'Training Error vs $\\alpha$ for 20 data sets for each equiprobable class')"
   ]
  },
  {
   "cell_type": "code",
   "execution_count": 962,
   "metadata": {
    "scrolled": false
   },
   "outputs": [],
   "source": [
    "#Test data generation\n",
    "\n",
    "test_l = [np.random.multivariate_normal(mu[i],sig[i],size =50) for i in range(3)]\n",
    "\n",
    "test = pd.DataFrame(np.concatenate((test_l[0],test_l[1],test_l[2]),axis=0),columns=['x1','x2','x3'])\n",
    "test_labels=[i for i in range(3) for j in range(50)]\n",
    "test_labels=pd.DataFrame(test_labels,columns=['test_class'])"
   ]
  },
  {
   "cell_type": "code",
   "execution_count": 963,
   "metadata": {},
   "outputs": [],
   "source": [
    "# Bayes classifier tested\n",
    "\n",
    "a = np.linspace(0,1,100)\n",
    "errors_test  = []\n",
    "\n",
    "for alpha in a:\n",
    "\n",
    "    cov_s = [cov_shrink(cov_est[i],cov_total,alpha) for i in range(3) ]\n",
    "    out_labels = classifier(test,cov_s[0],cov_s[1],cov_s[2],class_b)\n",
    "    errors_test.append(mean_squared_error(test_labels,out_labels))"
   ]
  },
  {
   "cell_type": "code",
   "execution_count": 964,
   "metadata": {},
   "outputs": [
    {
     "data": {
      "text/plain": [
       "Text(0.5, 1.0, 'Test Error vs $\\\\alpha$ for 50 data sets for each equiprobable class')"
      ]
     },
     "execution_count": 964,
     "metadata": {},
     "output_type": "execute_result"
    },
    {
     "data": {
      "image/png": "[encoded data removed]",
      "text/plain": [
       "<Figure size 432x288 with 1 Axes>"
      ]
     },
     "metadata": {
      "needs_background": "light"
     },
     "output_type": "display_data"
    }
   ],
   "source": [
    "#Plot of Test error vs alpha\n",
    "plt.figure()\n",
    "plt.plot(alphas_test,errors_test)\n",
    "plt.xlabel(r'$\\alpha$')\n",
    "plt.ylabel('MSE Error')\n",
    "plt.title(r'Test Error vs $\\alpha$ for 50 data sets for each equiprobable class')"
   ]
  }
 ],
 "metadata": {
  "kernelspec": {
   "display_name": "Python 3",
   "language": "python",
   "name": "python3"
  },
  "language_info": {
   "codemirror_mode": {
    "name": "ipython",
    "version": 3
   },
   "file_extension": ".py",
   "mimetype": "text/x-python",
   "name": "python",
   "nbconvert_exporter": "python",
   "pygments_lexer": "ipython3",
   "version": "3.7.4"
  }
 },
 "nbformat": 4,
 "nbformat_minor": 2
}
